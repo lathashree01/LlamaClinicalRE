{
 "cells": [
  {
   "cell_type": "markdown",
   "metadata": {},
   "source": [
    "# Result analysis of GAD"
   ]
  },
  {
   "cell_type": "code",
   "execution_count": 2,
   "metadata": {},
   "outputs": [],
   "source": [
    "import pandas as pd\n",
    "import matplotlib.pyplot as plt\n",
    "import numpy as np\n",
    "\n",
    "from sklearn.metrics import confusion_matrix, ConfusionMatrixDisplay\n",
    "from sklearn.metrics import classification_report, f1_score, precision_recall_fscore_support"
   ]
  },
  {
   "cell_type": "code",
   "execution_count": 18,
   "metadata": {},
   "outputs": [],
   "source": [
    "data_file_path = \"../datasets/GAD/final_test.txt\"\n",
    "filepath=\"../datasets/GAD/final_data/test.tsv\"\n",
    "\n",
    "gad_labels = [\"Gene-Disease\", \"No Gene-Disease\"]\n",
    "\n",
    "plot_labels = gad_labels"
   ]
  },
  {
   "cell_type": "code",
   "execution_count": 19,
   "metadata": {},
   "outputs": [],
   "source": [
    "# Load the results data file\n",
    "data = pd.read_csv(data_file_path, header=None)\n",
    "results_df = pd.concat([data.iloc[0], data.iloc[1]], axis=1)\n",
    "\n",
    "# Loading test data file\n",
    "data_df = pd.read_csv(filepath, header=None, delimiter='\\t', names=['sentence', 'label'])\n"
   ]
  },
  {
   "cell_type": "code",
   "execution_count": 20,
   "metadata": {},
   "outputs": [
    {
     "data": {
      "text/html": [
       "<div>\n",
       "<style scoped>\n",
       "    .dataframe tbody tr th:only-of-type {\n",
       "        vertical-align: middle;\n",
       "    }\n",
       "\n",
       "    .dataframe tbody tr th {\n",
       "        vertical-align: top;\n",
       "    }\n",
       "\n",
       "    .dataframe thead th {\n",
       "        text-align: right;\n",
       "    }\n",
       "</style>\n",
       "<table border=\"1\" class=\"dataframe\">\n",
       "  <thead>\n",
       "    <tr style=\"text-align: right;\">\n",
       "      <th></th>\n",
       "      <th>y_pred</th>\n",
       "      <th>y_true</th>\n",
       "    </tr>\n",
       "  </thead>\n",
       "  <tbody>\n",
       "    <tr>\n",
       "      <th>0</th>\n",
       "      <td>0</td>\n",
       "      <td>0</td>\n",
       "    </tr>\n",
       "    <tr>\n",
       "      <th>1</th>\n",
       "      <td>1</td>\n",
       "      <td>0</td>\n",
       "    </tr>\n",
       "    <tr>\n",
       "      <th>2</th>\n",
       "      <td>0</td>\n",
       "      <td>0</td>\n",
       "    </tr>\n",
       "    <tr>\n",
       "      <th>3</th>\n",
       "      <td>0</td>\n",
       "      <td>1</td>\n",
       "    </tr>\n",
       "    <tr>\n",
       "      <th>4</th>\n",
       "      <td>1</td>\n",
       "      <td>1</td>\n",
       "    </tr>\n",
       "    <tr>\n",
       "      <th>...</th>\n",
       "      <td>...</td>\n",
       "      <td>...</td>\n",
       "    </tr>\n",
       "    <tr>\n",
       "      <th>528</th>\n",
       "      <td>1</td>\n",
       "      <td>1</td>\n",
       "    </tr>\n",
       "    <tr>\n",
       "      <th>529</th>\n",
       "      <td>0</td>\n",
       "      <td>1</td>\n",
       "    </tr>\n",
       "    <tr>\n",
       "      <th>530</th>\n",
       "      <td>1</td>\n",
       "      <td>1</td>\n",
       "    </tr>\n",
       "    <tr>\n",
       "      <th>531</th>\n",
       "      <td>1</td>\n",
       "      <td>1</td>\n",
       "    </tr>\n",
       "    <tr>\n",
       "      <th>532</th>\n",
       "      <td>1</td>\n",
       "      <td>1</td>\n",
       "    </tr>\n",
       "  </tbody>\n",
       "</table>\n",
       "<p>533 rows × 2 columns</p>\n",
       "</div>"
      ],
      "text/plain": [
       "     y_pred  y_true\n",
       "0         0       0\n",
       "1         1       0\n",
       "2         0       0\n",
       "3         0       1\n",
       "4         1       1\n",
       "..      ...     ...\n",
       "528       1       1\n",
       "529       0       1\n",
       "530       1       1\n",
       "531       1       1\n",
       "532       1       1\n",
       "\n",
       "[533 rows x 2 columns]"
      ]
     },
     "execution_count": 20,
     "metadata": {},
     "output_type": "execute_result"
    }
   ],
   "source": [
    "results_df.columns = [\"y_pred\",\"y_true\"]\n",
    "results_df"
   ]
  },
  {
   "cell_type": "code",
   "execution_count": 21,
   "metadata": {},
   "outputs": [
    {
     "data": {
      "text/plain": [
       "array([0, 1])"
      ]
     },
     "execution_count": 21,
     "metadata": {},
     "output_type": "execute_result"
    }
   ],
   "source": [
    "results_df['y_true'].unique()"
   ]
  },
  {
   "cell_type": "code",
   "execution_count": 22,
   "metadata": {},
   "outputs": [
    {
     "name": "stdout",
     "output_type": "stream",
     "text": [
      "Therefore, @GENE$ and RNASEL may play a role in @DISEASE$ progression and severity. 1\n"
     ]
    }
   ],
   "source": [
    "idx=10\n",
    "print(data_df.iloc[idx]['sentence'], data_df.iloc[idx]['label'])"
   ]
  },
  {
   "cell_type": "markdown",
   "metadata": {},
   "source": [
    "### Result analysis"
   ]
  },
  {
   "cell_type": "code",
   "execution_count": 23,
   "metadata": {},
   "outputs": [
    {
     "name": "stdout",
     "output_type": "stream",
     "text": [
      "Micro F1:  (0.797373358348968, 0.797373358348968, 0.797373358348968, None)\n"
     ]
    }
   ],
   "source": [
    "# Create a confusion matrix and other metrics\n",
    "y_true = results_df[\"y_true\"]\n",
    "y_preds = results_df[\"y_pred\"]\n",
    "\n",
    "f1 = f1_score(y_true, y_preds, average='micro')\n",
    "macro_vals = precision_recall_fscore_support(y_true, y_preds, average='macro')\n",
    "micro_vals = precision_recall_fscore_support(y_true, y_preds, average='micro')\n",
    "weighted_vals = precision_recall_fscore_support(y_true, y_preds, average='weighted')\n",
    "class_vals = precision_recall_fscore_support(y_true, y_preds, average=None)\n",
    "\n",
    "print(\"Micro F1: \", micro_vals)\n",
    "cm = confusion_matrix(y_true, y_preds, normalize='true')"
   ]
  },
  {
   "cell_type": "code",
   "execution_count": 24,
   "metadata": {},
   "outputs": [
    {
     "name": "stdout",
     "output_type": "stream",
     "text": [
      "                 precision    recall  f1-score   support\n",
      "\n",
      "   Gene-Disease       0.76      0.80      0.78       239\n",
      "No Gene-Disease       0.83      0.79      0.81       294\n",
      "\n",
      "       accuracy                           0.80       533\n",
      "      macro avg       0.80      0.80      0.80       533\n",
      "   weighted avg       0.80      0.80      0.80       533\n",
      "\n"
     ]
    }
   ],
   "source": [
    "print(classification_report(y_true, y_preds, target_names=plot_labels))"
   ]
  },
  {
   "cell_type": "code",
   "execution_count": 26,
   "metadata": {},
   "outputs": [
    {
     "data": {
      "text/html": [
       "<div>\n",
       "<style scoped>\n",
       "    .dataframe tbody tr th:only-of-type {\n",
       "        vertical-align: middle;\n",
       "    }\n",
       "\n",
       "    .dataframe tbody tr th {\n",
       "        vertical-align: top;\n",
       "    }\n",
       "\n",
       "    .dataframe thead th {\n",
       "        text-align: right;\n",
       "    }\n",
       "</style>\n",
       "<table border=\"1\" class=\"dataframe\">\n",
       "  <thead>\n",
       "    <tr style=\"text-align: right;\">\n",
       "      <th></th>\n",
       "      <th>0</th>\n",
       "      <th>1</th>\n",
       "    </tr>\n",
       "  </thead>\n",
       "  <tbody>\n",
       "    <tr>\n",
       "      <th>0</th>\n",
       "      <td>80.33</td>\n",
       "      <td>19.67</td>\n",
       "    </tr>\n",
       "    <tr>\n",
       "      <th>1</th>\n",
       "      <td>20.75</td>\n",
       "      <td>79.25</td>\n",
       "    </tr>\n",
       "  </tbody>\n",
       "</table>\n",
       "</div>"
      ],
      "text/plain": [
       "       0      1\n",
       "0  80.33  19.67\n",
       "1  20.75  79.25"
      ]
     },
     "execution_count": 26,
     "metadata": {},
     "output_type": "execute_result"
    }
   ],
   "source": [
    "# Calculate ratios\n",
    "cm_df = pd.DataFrame(cm)\n",
    "df_ratios = cm_df.div(cm_df.sum(axis=1), axis=0).round(4) *100\n",
    "\n",
    "# df_norm_col\n",
    "df_ratios "
   ]
  },
  {
   "cell_type": "code",
   "execution_count": 30,
   "metadata": {},
   "outputs": [
    {
     "data": {
      "image/png": "[encoded data removed]",
      "text/plain": [
       "<Figure size 800x600 with 2 Axes>"
      ]
     },
     "metadata": {},
     "output_type": "display_data"
    }
   ],
   "source": [
    "# Create a heatmap of the confusion matrix\n",
    "from sklearn.metrics import confusion_matrix, ConfusionMatrixDisplay\n",
    "import seaborn as sns\n",
    "plt.figure(figsize=(8, 6))\n",
    "sns.heatmap(df_ratios, annot=True,fmt=\".2f\", cmap='rocket_r',vmin=0, vmax=100, xticklabels=plot_labels, yticklabels=plot_labels )\n",
    "\n",
    "plt.xlabel('Predicted')\n",
    "plt.ylabel('Actual')\n",
    "# plt.title('Confusion Matrix for Sentence Distance: 0')\n",
    "# plt.savefig(\"cutoff1_conf_mat.pdf\",bbox_inches=\"tight\")\n",
    "# plt.xticklabels(adjusted_n2c2_labels)\n",
    "plt.xticks(rotation=0)\n",
    "plt.yticks(rotation=90)\n",
    "plt.savefig(\"./gad_cm.pdf\",bbox_inches='tight')\n",
    "plt.show()"
   ]
  },
  {
   "cell_type": "code",
   "execution_count": 16,
   "metadata": {},
   "outputs": [],
   "source": [
    "# # Get unique labels and their respective counts for true and predicted labels\n",
    "# unique_true_labels, true_label_counts = combined_data_df['y_true'].value_counts().sort_index().index, combined_data_df['y_true'].value_counts().sort_index().values\n",
    "# unique_predicted_labels, predicted_label_counts = combined_data_df['y_pred'].value_counts().sort_index().index, combined_data_df['y_pred'].value_counts().sort_index().values\n",
    "\n",
    "# print(unique_true_labels)\n",
    "# print(unique_predicted_labels)\n",
    "# bar_width = 0.5 \n",
    "\n",
    "# # Set position of bar on X axis\n",
    "# br1 = np.arange(len(unique_true_labels))\n",
    "# br2 = [x + bar_width for x in br1]\n",
    "\n",
    "# # Make the plot\n",
    "# plt.bar(br1, true_label_counts, color ='r', width = bar_width,\n",
    "#         edgecolor ='grey', label ='IT')\n",
    "# plt.bar(br2, predicted_label_counts, color ='g', width = bar_width,\n",
    "#         edgecolor ='grey', label ='ECE')\n",
    "\n",
    "# # Add labels and title\n",
    "# plt.xlabel('Class Label')\n",
    "# plt.ylabel('Count')\n",
    "# plt.title('Class Importance Plot')\n",
    "# plt.legend()\n",
    "\n",
    "# # Show the plot\n",
    "# plt.show()"
   ]
  },
  {
   "cell_type": "code",
   "execution_count": 17,
   "metadata": {},
   "outputs": [],
   "source": [
    "# true_grouped = df.groupby('true_labels').size()\n",
    "# predicted_grouped = df.groupby('predicted_labels').size()\n",
    "\n",
    "# predicted_grouped.plot(kind='bar', stacked=True, rot=0)\n",
    "# plt.xlabel('Model 1 Predictions')\n",
    "# plt.ylabel('Count')\n",
    "# plt.title('Grouped Bar Chart of Wrongly Classified Datapoints')\n",
    "# plt.legend(title='Model 2 Predictions', loc='upper right')\n",
    "# plt.show()"
   ]
  },
  {
   "cell_type": "code",
   "execution_count": 21,
   "metadata": {},
   "outputs": [
    {
     "data": {
      "text/plain": [
       "<AxesSubplot:>"
      ]
     },
     "execution_count": 21,
     "metadata": {},
     "output_type": "execute_result"
    },
    {
     "data": {
      "image/png": "[encoded data removed]",
      "text/plain": [
       "<Figure size 640x480 with 1 Axes>"
      ]
     },
     "metadata": {},
     "output_type": "display_data"
    }
   ],
   "source": [
    "results_df['y_pred'].value_counts().plot(kind='bar', rot=0)"
   ]
  },
  {
   "cell_type": "code",
   "execution_count": 33,
   "metadata": {},
   "outputs": [
    {
     "name": "stdout",
     "output_type": "stream",
     "text": [
      "[239, 294]\n",
      "Preds Before [253, 280]\n",
      "Preds After [253, 280, 0]\n",
      "Correct Before [192, 233]\n",
      "Correct After [192, 233, 0]\n"
     ]
    }
   ],
   "source": [
    "data = {\n",
    "    'true_labels': results_df['y_true'].values.tolist(),\n",
    "    'predicted_labels': results_df['y_pred'].values.tolist()\n",
    "}\n",
    "df = pd.DataFrame(data)\n",
    "true = df.groupby('true_labels').size().tolist()\n",
    "preds = df.groupby('predicted_labels').size().tolist()\n",
    "correct = df[df['true_labels'] == df['predicted_labels']].groupby('true_labels').size().tolist()\n",
    "print(true)\n",
    "print(\"Preds Before\",preds)\n",
    "preds.insert(5, 0)\n",
    "print(\"Preds After\",preds)\n",
    "# print(\"Correct\",correct)\n",
    "print(\"Correct Before\",correct)\n",
    "correct.insert(5, 0)\n",
    "print(\"Correct After\",correct)"
   ]
  },
  {
   "cell_type": "code",
   "execution_count": 34,
   "metadata": {},
   "outputs": [],
   "source": [
    "# df[df['true_labels'] == df['predicted_labels']].groupby('true_labels').size()"
   ]
  },
  {
   "cell_type": "code",
   "execution_count": 35,
   "metadata": {},
   "outputs": [
    {
     "name": "stdout",
     "output_type": "stream",
     "text": [
      "Predictions:\n",
      "1    280\n",
      "0    253\n",
      "Name: y_pred, dtype: int64\n",
      "True labels:\n",
      "1    294\n",
      "0    239\n",
      "Name: y_true, dtype: int64\n"
     ]
    }
   ],
   "source": [
    "print(\"Predictions:\")\n",
    "print(results_df['y_pred'].value_counts())\n",
    "print(\"True labels:\")\n",
    "print(results_df['y_true'].value_counts())"
   ]
  },
  {
   "cell_type": "markdown",
   "metadata": {},
   "source": [
    "### Class Importance Analysis"
   ]
  },
  {
   "cell_type": "code",
   "execution_count": null,
   "metadata": {},
   "outputs": [],
   "source": [
    "x = np.arange(len(plot_labels))  # the label locations\n",
    "width = 0.25  # the width of the bars\n",
    "\n",
    "fig, ax = plt.subplots(layout=\"constrained\")\n",
    "rects1 = ax.bar(x , true, width, label='True label distribution', color='lightseagreen')\n",
    "rects2 = ax.bar(x + width, preds, width, label='Predicted label distribution')\n",
    "rects3 = ax.bar(x + 2*width, correct, width, label='Correctly Predicted label distribution', color='lightcoral')\n",
    "\n",
    "ax.set_xticklabels(plot_labels, fontsize=\"8\")\n",
    "# Add some text for labels, title and custom x-axis tick labels, etc.\n",
    "\n",
    "ax.set_title('Class Importance Plot - True vs Predicted Labels',fontsize=\"10\")\n",
    "ax.set_xlabel('Relation Class',fontsize=\"10\")\n",
    "ax.set_ylabel('Count',fontsize=\"10\",labelpad=15)\n",
    "\n",
    "ax.spines['top'].set_visible(False)\n",
    "ax.spines['right'].set_visible(False)\n",
    "ax.spines['bottom'].set_color('#DDDDDD')\n",
    "ax.spines['left'].set_visible(False)\n",
    "\n",
    "ax.set_xticks(x+width, plot_labels, fontsize=\"8\", rotation=90)\n",
    "ax.tick_params(bottom=False, left=False)\n",
    "ax.set_axisbelow(True)\n",
    "ax.yaxis.grid(True, color='#EEEEEE')\n",
    "ax.xaxis.grid(False)\n",
    "\n",
    "ax.legend(fontsize=\"7\")\n",
    "\n",
    "ax.bar_label(rects1, padding=3, fontsize=\"8\")\n",
    "ax.bar_label(rects2, padding=3, fontsize=\"8\")\n",
    "ax.bar_label(rects3, padding=3, fontsize=\"8\")\n",
    "\n",
    "fig.tight_layout()\n",
    "\n",
    "# plt.savefig(\"/Users/lathapevi/Documents/git_repos/thesis/src/visualisation/class_importance_plot_i2b2_2010.pdf\")\n",
    "plt.show()\n",
    "\n"
   ]
  },
  {
   "cell_type": "markdown",
   "metadata": {},
   "source": [
    "### Error Analysis"
   ]
  },
  {
   "cell_type": "code",
   "execution_count": 41,
   "metadata": {},
   "outputs": [
    {
     "data": {
      "text/plain": [
       "Index(['sentence', 'label', 'sentence_len'], dtype='object')"
      ]
     },
     "execution_count": 41,
     "metadata": {},
     "output_type": "execute_result"
    }
   ],
   "source": [
    "data_df['sentence_len'] = data_df['sentence'].apply(len)\n",
    "data_df.columns\n",
    "# data_df = data_df.drop('senetence_len', axis=1)"
   ]
  },
  {
   "cell_type": "code",
   "execution_count": 42,
   "metadata": {},
   "outputs": [
    {
     "name": "stdout",
     "output_type": "stream",
     "text": [
      "Wrongly classified 8321\n",
      "Correctly classified 12370\n",
      "Total 20691\n"
     ]
    }
   ],
   "source": [
    "wrongly_classified_df = results_df[results_df[\"y_pred\"] != results_df[\"y_true\"]]\n",
    "correctly_classified_df = results_df[results_df[\"y_pred\"] == results_df[\"y_true\"]]\n",
    "print(\"Wrongly classified {}\".format(len(wrongly_classified_df)))\n",
    "print(\"Correctly classified {}\".format(len(correctly_classified_df)))\n",
    "print(\"Total {}\".format(len(results_df)))"
   ]
  },
  {
   "cell_type": "code",
   "execution_count": 43,
   "metadata": {},
   "outputs": [
    {
     "data": {
      "text/html": [
       "<div>\n",
       "<style scoped>\n",
       "    .dataframe tbody tr th:only-of-type {\n",
       "        vertical-align: middle;\n",
       "    }\n",
       "\n",
       "    .dataframe tbody tr th {\n",
       "        vertical-align: top;\n",
       "    }\n",
       "\n",
       "    .dataframe thead th {\n",
       "        text-align: right;\n",
       "    }\n",
       "</style>\n",
       "<table border=\"1\" class=\"dataframe\">\n",
       "  <thead>\n",
       "    <tr style=\"text-align: right;\">\n",
       "      <th></th>\n",
       "      <th>y_pred</th>\n",
       "      <th>y_true</th>\n",
       "    </tr>\n",
       "  </thead>\n",
       "  <tbody>\n",
       "    <tr>\n",
       "      <th>0</th>\n",
       "      <td>6</td>\n",
       "      <td>7</td>\n",
       "    </tr>\n",
       "    <tr>\n",
       "      <th>1</th>\n",
       "      <td>4</td>\n",
       "      <td>0</td>\n",
       "    </tr>\n",
       "    <tr>\n",
       "      <th>3</th>\n",
       "      <td>4</td>\n",
       "      <td>0</td>\n",
       "    </tr>\n",
       "    <tr>\n",
       "      <th>4</th>\n",
       "      <td>6</td>\n",
       "      <td>1</td>\n",
       "    </tr>\n",
       "    <tr>\n",
       "      <th>10</th>\n",
       "      <td>6</td>\n",
       "      <td>4</td>\n",
       "    </tr>\n",
       "  </tbody>\n",
       "</table>\n",
       "</div>"
      ],
      "text/plain": [
       "    y_pred  y_true\n",
       "0        6       7\n",
       "1        4       0\n",
       "3        4       0\n",
       "4        6       1\n",
       "10       6       4"
      ]
     },
     "execution_count": 43,
     "metadata": {},
     "output_type": "execute_result"
    }
   ],
   "source": [
    "wrongly_classified_df.head(5)"
   ]
  },
  {
   "cell_type": "code",
   "execution_count": 37,
   "metadata": {},
   "outputs": [],
   "source": [
    "combined_data_df = pd.concat([data_df, results_df], axis=1)"
   ]
  },
  {
   "cell_type": "code",
   "execution_count": 38,
   "metadata": {},
   "outputs": [
    {
     "data": {
      "text/plain": [
       "Index(['sentence', 'label', 'y_pred', 'y_true'], dtype='object')"
      ]
     },
     "execution_count": 38,
     "metadata": {},
     "output_type": "execute_result"
    }
   ],
   "source": [
    "combined_data_df.columns"
   ]
  },
  {
   "cell_type": "code",
   "execution_count": 39,
   "metadata": {},
   "outputs": [],
   "source": [
    "combined_data_df.to_csv(\"/Users/lathapevi/Documents/git_repos/thesis/datasets/GAD/results_combined_data.csv\", index=False)"
   ]
  },
  {
   "cell_type": "code",
   "execution_count": 46,
   "metadata": {},
   "outputs": [],
   "source": [
    "# Calculate the total number of wrong predictions\n",
    "total_wrong_predictions = len(wrongly_classified_df)\n",
    "\n",
    "# Define bins for text length\n",
    "bin_edges = [0, 50, 100, 150, 200, 250, 300, float('inf')]\n",
    "bin_labels = ['<= 50', '51-100', '101-150', '151-200', '201-250', '251-300', '> 300']\n",
    "\n",
    "# Create a new column 'text_length_bin' to represent the bins\n",
    "combined_data_df['sentence_len_bin'] = pd.cut(combined_data_df['sentence_len'], bins=bin_edges, labels=bin_labels, right=False)\n",
    "\n",
    "# Calculate the total number of wrong predictions\n",
    "# total_wrong_predictions = combined_data_df[combined_data_df['y_true'] != combined_data_df['y_pred']].shape[0]\n",
    "\n",
    "# Group by text length bins and calculate the proportion of wrong predictions for each group\n",
    "proportion_wrong_predictions = (\n",
    "    combined_data_df[combined_data_df['y_true'] != combined_data_df['y_pred']]\n",
    "    .groupby('sentence_len_bin')\n",
    "    .size()\n",
    "    .div(total_wrong_predictions)\n",
    "    .reset_index(name='proportion_wrong')\n",
    ")\n",
    "\n"
   ]
  },
  {
   "cell_type": "code",
   "execution_count": 47,
   "metadata": {},
   "outputs": [
    {
     "name": "stderr",
     "output_type": "stream",
     "text": [
      "/opt/anaconda3/envs/thesis02/lib/python3.7/site-packages/ipykernel_launcher.py:10: UserWarning: FixedFormatter should only be used together with FixedLocator\n",
      "  # Remove the CWD from sys.path while we load stuff.\n"
     ]
    },
    {
     "data": {
      "image/png": "[encoded data removed]",
      "text/plain": [
       "<Figure size 640x480 with 1 Axes>"
      ]
     },
     "metadata": {},
     "output_type": "display_data"
    }
   ],
   "source": [
    "fig, ax = plt.subplots()\n",
    "\n",
    "ax.bar(proportion_wrong_predictions['sentence_len_bin'], proportion_wrong_predictions['proportion_wrong'])\n",
    "\n",
    "# Add some text for labels, title and custom x-axis tick labels, etc.\n",
    "\n",
    "ax.set_title('Proportion of Wrong Predictions Based on Text Length Bins',fontsize=\"10\")\n",
    "ax.set_xlabel('Text Length Bins',fontsize=\"10\")\n",
    "ax.set_ylabel('Proportion of Wrong Predictions',fontsize=\"10\")\n",
    "ax.set_xticklabels(bin_labels, fontsize=\"8\", rotation=90)\n",
    "\n",
    "ax.spines['top'].set_visible(False)\n",
    "ax.spines['right'].set_visible(False)\n",
    "ax.spines['bottom'].set_color('#DDDDDD')\n",
    "ax.spines['left'].set_visible(False)\n",
    "\n",
    "# ax.set_xticks(x,bin_labels)\n",
    "ax.tick_params(bottom=False, left=False)\n",
    "ax.set_axisbelow(False)\n",
    "# ax.yaxis.grid(True, color='#EEEEEE')\n",
    "# ax.xaxis.grid(False)\n",
    "\n",
    "fig.tight_layout()\n",
    "\n",
    "# plt.xticks(labels=plot_labels, fontsize=\"8\")\n",
    "plt.savefig(\"/Users/lathapevi/Documents/git_repos/thesis/src/visualisation/text_length_v_s_wrong_preds_i2b2_2010.pdf\")\n",
    "plt.show()"
   ]
  },
  {
   "cell_type": "code",
   "execution_count": 48,
   "metadata": {},
   "outputs": [],
   "source": [
    "grouped_data = data_df.groupby(['sentence_len', 'label']).size().unstack(fill_value=0)"
   ]
  },
  {
   "cell_type": "code",
   "execution_count": 50,
   "metadata": {},
   "outputs": [
    {
     "name": "stderr",
     "output_type": "stream",
     "text": [
      "/opt/anaconda3/envs/thesis02/lib/python3.7/site-packages/ipykernel_launcher.py:7: UserWarning: FixedFormatter should only be used together with FixedLocator\n",
      "  import sys\n",
      "No artists with labels found to put in legend.  Note that artists whose label start with an underscore are ignored when legend() is called with no argument.\n"
     ]
    },
    {
     "data": {
      "image/png": "[encoded data removed]",
      "text/plain": [
       "<Figure size 640x480 with 1 Axes>"
      ]
     },
     "metadata": {},
     "output_type": "display_data"
    }
   ],
   "source": [
    "# ANALYSIS THE CLASS LABELS with that of INPUT_LENGTH\n",
    "\n",
    "fig, ax = plt.subplots()\n",
    "\n",
    "ax.scatter(data_df['label'], data_df['sentence_len'], marker=\".\", alpha=0.5, c=\"blueviolet\")\n",
    "\n",
    "ax.set_xticklabels(plot_labels, fontsize=\"8\", rotation=90)\n",
    "# Add some text for labels, title and custom x-axis tick labels, etc.\n",
    "\n",
    "ax.set_title('Input Text Length vs Relation class',fontsize=\"10\")\n",
    "ax.set_xlabel('Relation Class',fontsize=\"10\")\n",
    "ax.set_ylabel('Text Length',fontsize=\"10\")\n",
    "\n",
    "ax.spines['top'].set_visible(False)\n",
    "ax.spines['right'].set_visible(False)\n",
    "ax.spines['bottom'].set_color('#DDDDDD')\n",
    "ax.spines['left'].set_visible(False)\n",
    "\n",
    "ax.legend(fontsize=\"7\", loc =\"upper left\")\n",
    "ax.set_xticks(x+width, plot_labels)\n",
    "ax.tick_params(bottom=False, left=False)\n",
    "ax.set_axisbelow(False)\n",
    "ax.yaxis.grid(True, color='#EEEEEE')\n",
    "ax.xaxis.grid(False)\n",
    "\n",
    "fig.tight_layout()\n",
    "\n",
    "# plt.xticks(labels=plot_labels, fontsize=\"8\")\n",
    "plt.savefig(\"/Users/lathapevi/Documents/git_repos/thesis/src/visualisation/class_label_vs_input_length_i2b2_2010.pdf\")\n",
    "plt.show()"
   ]
  },
  {
   "cell_type": "code",
   "execution_count": 65,
   "metadata": {},
   "outputs": [],
   "source": [
    "# combined_data_df.drop(['rel'], axis=1, inplace=True)"
   ]
  },
  {
   "cell_type": "code",
   "execution_count": 68,
   "metadata": {},
   "outputs": [
    {
     "data": {
      "text/html": [
       "<div>\n",
       "<style scoped>\n",
       "    .dataframe tbody tr th:only-of-type {\n",
       "        vertical-align: middle;\n",
       "    }\n",
       "\n",
       "    .dataframe tbody tr th {\n",
       "        vertical-align: top;\n",
       "    }\n",
       "\n",
       "    .dataframe thead th {\n",
       "        text-align: right;\n",
       "    }\n",
       "</style>\n",
       "<table border=\"1\" class=\"dataframe\">\n",
       "  <thead>\n",
       "    <tr style=\"text-align: right;\">\n",
       "      <th></th>\n",
       "      <th>sentence</th>\n",
       "      <th>label</th>\n",
       "      <th>sentence_len</th>\n",
       "      <th>y_pred</th>\n",
       "      <th>y_true</th>\n",
       "      <th>sentence_len_bin</th>\n",
       "      <th>pred_rel</th>\n",
       "      <th>true_rel</th>\n",
       "    </tr>\n",
       "  </thead>\n",
       "  <tbody>\n",
       "    <tr>\n",
       "      <th>0</th>\n",
       "      <td>ALLERGIES : @Penicillin$ , which produces a @r...</td>\n",
       "      <td>7</td>\n",
       "      <td>52</td>\n",
       "      <td>6</td>\n",
       "      <td>7</td>\n",
       "      <td>51-100</td>\n",
       "      <td>Reason-Drug</td>\n",
       "      <td>ADE-Drug</td>\n",
       "    </tr>\n",
       "    <tr>\n",
       "      <th>1</th>\n",
       "      <td>@Toprol$ @100$ .</td>\n",
       "      <td>0</td>\n",
       "      <td>16</td>\n",
       "      <td>4</td>\n",
       "      <td>0</td>\n",
       "      <td>&lt;= 50</td>\n",
       "      <td>Route-Drug</td>\n",
       "      <td>Strength-Drug</td>\n",
       "    </tr>\n",
       "    <tr>\n",
       "      <th>2</th>\n",
       "      <td>@Lipitor$ @10$ q.d. 3 .</td>\n",
       "      <td>0</td>\n",
       "      <td>23</td>\n",
       "      <td>0</td>\n",
       "      <td>0</td>\n",
       "      <td>&lt;= 50</td>\n",
       "      <td>Strength-Drug</td>\n",
       "      <td>Strength-Drug</td>\n",
       "    </tr>\n",
       "    <tr>\n",
       "      <th>3</th>\n",
       "      <td>@Cardura$ @2$ q.d. SOCIAL HISTORY : Significan...</td>\n",
       "      <td>0</td>\n",
       "      <td>97</td>\n",
       "      <td>4</td>\n",
       "      <td>0</td>\n",
       "      <td>51-100</td>\n",
       "      <td>Route-Drug</td>\n",
       "      <td>Strength-Drug</td>\n",
       "    </tr>\n",
       "    <tr>\n",
       "      <th>4</th>\n",
       "      <td>Chronic obstructive pulmonary disease exacerba...</td>\n",
       "      <td>1</td>\n",
       "      <td>582</td>\n",
       "      <td>6</td>\n",
       "      <td>1</td>\n",
       "      <td>&gt; 300</td>\n",
       "      <td>Reason-Drug</td>\n",
       "      <td>Form-Drug</td>\n",
       "    </tr>\n",
       "  </tbody>\n",
       "</table>\n",
       "</div>"
      ],
      "text/plain": [
       "                                            sentence  label  sentence_len  \\\n",
       "0  ALLERGIES : @Penicillin$ , which produces a @r...      7            52   \n",
       "1                                   @Toprol$ @100$ .      0            16   \n",
       "2                            @Lipitor$ @10$ q.d. 3 .      0            23   \n",
       "3  @Cardura$ @2$ q.d. SOCIAL HISTORY : Significan...      0            97   \n",
       "4  Chronic obstructive pulmonary disease exacerba...      1           582   \n",
       "\n",
       "   y_pred  y_true sentence_len_bin       pred_rel       true_rel  \n",
       "0       6       7           51-100    Reason-Drug       ADE-Drug  \n",
       "1       4       0            <= 50     Route-Drug  Strength-Drug  \n",
       "2       0       0            <= 50  Strength-Drug  Strength-Drug  \n",
       "3       4       0           51-100     Route-Drug  Strength-Drug  \n",
       "4       6       1            > 300    Reason-Drug      Form-Drug  "
      ]
     },
     "execution_count": 68,
     "metadata": {},
     "output_type": "execute_result"
    }
   ],
   "source": [
    "combined_data_df['pred_rel'] = combined_data_df['y_pred'].map(id2label)\n",
    "combined_data_df['true_rel'] = combined_data_df['y_true'].map(id2label)\n",
    "combined_data_df.head(5)"
   ]
  },
  {
   "cell_type": "code",
   "execution_count": 69,
   "metadata": {},
   "outputs": [
    {
     "data": {
      "text/html": [
       "<div>\n",
       "<style scoped>\n",
       "    .dataframe tbody tr th:only-of-type {\n",
       "        vertical-align: middle;\n",
       "    }\n",
       "\n",
       "    .dataframe tbody tr th {\n",
       "        vertical-align: top;\n",
       "    }\n",
       "\n",
       "    .dataframe thead th {\n",
       "        text-align: right;\n",
       "    }\n",
       "</style>\n",
       "<table border=\"1\" class=\"dataframe\">\n",
       "  <thead>\n",
       "    <tr style=\"text-align: right;\">\n",
       "      <th></th>\n",
       "      <th>sentence</th>\n",
       "      <th>label</th>\n",
       "      <th>sentence_len</th>\n",
       "      <th>y_pred</th>\n",
       "      <th>y_true</th>\n",
       "      <th>sentence_len_bin</th>\n",
       "      <th>pred_rel</th>\n",
       "      <th>true_rel</th>\n",
       "    </tr>\n",
       "  </thead>\n",
       "  <tbody>\n",
       "    <tr>\n",
       "      <th>0</th>\n",
       "      <td>ALLERGIES : @Penicillin$ , which produces a @r...</td>\n",
       "      <td>7</td>\n",
       "      <td>52</td>\n",
       "      <td>6</td>\n",
       "      <td>7</td>\n",
       "      <td>51-100</td>\n",
       "      <td>Reason-Drug</td>\n",
       "      <td>ADE-Drug</td>\n",
       "    </tr>\n",
       "    <tr>\n",
       "      <th>1</th>\n",
       "      <td>@Toprol$ @100$ .</td>\n",
       "      <td>0</td>\n",
       "      <td>16</td>\n",
       "      <td>4</td>\n",
       "      <td>0</td>\n",
       "      <td>&lt;= 50</td>\n",
       "      <td>Route-Drug</td>\n",
       "      <td>Strength-Drug</td>\n",
       "    </tr>\n",
       "    <tr>\n",
       "      <th>3</th>\n",
       "      <td>@Cardura$ @2$ q.d. SOCIAL HISTORY : Significan...</td>\n",
       "      <td>0</td>\n",
       "      <td>97</td>\n",
       "      <td>4</td>\n",
       "      <td>0</td>\n",
       "      <td>51-100</td>\n",
       "      <td>Route-Drug</td>\n",
       "      <td>Strength-Drug</td>\n",
       "    </tr>\n",
       "    <tr>\n",
       "      <th>4</th>\n",
       "      <td>Chronic obstructive pulmonary disease exacerba...</td>\n",
       "      <td>1</td>\n",
       "      <td>582</td>\n",
       "      <td>6</td>\n",
       "      <td>1</td>\n",
       "      <td>&gt; 300</td>\n",
       "      <td>Reason-Drug</td>\n",
       "      <td>Form-Drug</td>\n",
       "    </tr>\n",
       "    <tr>\n",
       "      <th>10</th>\n",
       "      <td>The patient was placed on @Diltiazem$ @drip$ a...</td>\n",
       "      <td>4</td>\n",
       "      <td>135</td>\n",
       "      <td>6</td>\n",
       "      <td>4</td>\n",
       "      <td>101-150</td>\n",
       "      <td>Reason-Drug</td>\n",
       "      <td>Route-Drug</td>\n",
       "    </tr>\n",
       "  </tbody>\n",
       "</table>\n",
       "</div>"
      ],
      "text/plain": [
       "                                             sentence  label  sentence_len  \\\n",
       "0   ALLERGIES : @Penicillin$ , which produces a @r...      7            52   \n",
       "1                                    @Toprol$ @100$ .      0            16   \n",
       "3   @Cardura$ @2$ q.d. SOCIAL HISTORY : Significan...      0            97   \n",
       "4   Chronic obstructive pulmonary disease exacerba...      1           582   \n",
       "10  The patient was placed on @Diltiazem$ @drip$ a...      4           135   \n",
       "\n",
       "    y_pred  y_true sentence_len_bin     pred_rel       true_rel  \n",
       "0        6       7           51-100  Reason-Drug       ADE-Drug  \n",
       "1        4       0            <= 50   Route-Drug  Strength-Drug  \n",
       "3        4       0           51-100   Route-Drug  Strength-Drug  \n",
       "4        6       1            > 300  Reason-Drug      Form-Drug  \n",
       "10       6       4          101-150  Reason-Drug     Route-Drug  "
      ]
     },
     "execution_count": 69,
     "metadata": {},
     "output_type": "execute_result"
    }
   ],
   "source": [
    "problematic_datapoints = combined_data_df[combined_data_df['y_true'] != combined_data_df['y_pred']]\n",
    "problematic_datapoints.head(5)"
   ]
  },
  {
   "cell_type": "code",
   "execution_count": 53,
   "metadata": {},
   "outputs": [],
   "source": [
    "problematic_datapoints.to_csv(\"/Users/lathapevi/Documents/git_repos/thesis/datasets/i2b2_2010/problematic_datapoints.csv\", index=False)"
   ]
  },
  {
   "cell_type": "code",
   "execution_count": 70,
   "metadata": {},
   "outputs": [
    {
     "data": {
      "text/html": [
       "<div>\n",
       "<style scoped>\n",
       "    .dataframe tbody tr th:only-of-type {\n",
       "        vertical-align: middle;\n",
       "    }\n",
       "\n",
       "    .dataframe tbody tr th {\n",
       "        vertical-align: top;\n",
       "    }\n",
       "\n",
       "    .dataframe thead th {\n",
       "        text-align: right;\n",
       "    }\n",
       "</style>\n",
       "<table border=\"1\" class=\"dataframe\">\n",
       "  <thead>\n",
       "    <tr style=\"text-align: right;\">\n",
       "      <th></th>\n",
       "      <th>sentence</th>\n",
       "      <th>label</th>\n",
       "      <th>sentence_len</th>\n",
       "      <th>y_pred</th>\n",
       "      <th>y_true</th>\n",
       "      <th>sentence_len_bin</th>\n",
       "      <th>pred_rel</th>\n",
       "      <th>true_rel</th>\n",
       "    </tr>\n",
       "  </thead>\n",
       "  <tbody>\n",
       "    <tr>\n",
       "      <th>2</th>\n",
       "      <td>@Lipitor$ @10$ q.d. 3 .</td>\n",
       "      <td>0</td>\n",
       "      <td>23</td>\n",
       "      <td>0</td>\n",
       "      <td>0</td>\n",
       "      <td>&lt;= 50</td>\n",
       "      <td>Strength-Drug</td>\n",
       "      <td>Strength-Drug</td>\n",
       "    </tr>\n",
       "    <tr>\n",
       "      <th>5</th>\n",
       "      <td>Chronic obstructive pulmonary disease exacerba...</td>\n",
       "      <td>6</td>\n",
       "      <td>582</td>\n",
       "      <td>6</td>\n",
       "      <td>6</td>\n",
       "      <td>&gt; 300</td>\n",
       "      <td>Reason-Drug</td>\n",
       "      <td>Reason-Drug</td>\n",
       "    </tr>\n",
       "    <tr>\n",
       "      <th>6</th>\n",
       "      <td>Chronic obstructive pulmonary disease exacerba...</td>\n",
       "      <td>6</td>\n",
       "      <td>582</td>\n",
       "      <td>6</td>\n",
       "      <td>6</td>\n",
       "      <td>&gt; 300</td>\n",
       "      <td>Reason-Drug</td>\n",
       "      <td>Reason-Drug</td>\n",
       "    </tr>\n",
       "    <tr>\n",
       "      <th>7</th>\n",
       "      <td>Chronic obstructive pulmonary disease exacerba...</td>\n",
       "      <td>6</td>\n",
       "      <td>582</td>\n",
       "      <td>6</td>\n",
       "      <td>6</td>\n",
       "      <td>&gt; 300</td>\n",
       "      <td>Reason-Drug</td>\n",
       "      <td>Reason-Drug</td>\n",
       "    </tr>\n",
       "    <tr>\n",
       "      <th>8</th>\n",
       "      <td>Chronic obstructive pulmonary disease exacerba...</td>\n",
       "      <td>6</td>\n",
       "      <td>582</td>\n",
       "      <td>6</td>\n",
       "      <td>6</td>\n",
       "      <td>&gt; 300</td>\n",
       "      <td>Reason-Drug</td>\n",
       "      <td>Reason-Drug</td>\n",
       "    </tr>\n",
       "  </tbody>\n",
       "</table>\n",
       "</div>"
      ],
      "text/plain": [
       "                                            sentence  label  sentence_len  \\\n",
       "2                            @Lipitor$ @10$ q.d. 3 .      0            23   \n",
       "5  Chronic obstructive pulmonary disease exacerba...      6           582   \n",
       "6  Chronic obstructive pulmonary disease exacerba...      6           582   \n",
       "7  Chronic obstructive pulmonary disease exacerba...      6           582   \n",
       "8  Chronic obstructive pulmonary disease exacerba...      6           582   \n",
       "\n",
       "   y_pred  y_true sentence_len_bin       pred_rel       true_rel  \n",
       "2       0       0            <= 50  Strength-Drug  Strength-Drug  \n",
       "5       6       6            > 300    Reason-Drug    Reason-Drug  \n",
       "6       6       6            > 300    Reason-Drug    Reason-Drug  \n",
       "7       6       6            > 300    Reason-Drug    Reason-Drug  \n",
       "8       6       6            > 300    Reason-Drug    Reason-Drug  "
      ]
     },
     "execution_count": 70,
     "metadata": {},
     "output_type": "execute_result"
    }
   ],
   "source": [
    "correct_datapoints = combined_data_df[combined_data_df['y_true'] == combined_data_df['y_pred']]\n",
    "correct_datapoints.head(5)"
   ]
  },
  {
   "cell_type": "code",
   "execution_count": 71,
   "metadata": {},
   "outputs": [
    {
     "data": {
      "text/plain": [
       "'ALLERGIES : @Penicillin$ , which produces a @rash$ .'"
      ]
     },
     "execution_count": 71,
     "metadata": {},
     "output_type": "execute_result"
    }
   ],
   "source": [
    "problematic_datapoints.iloc[0]['sentence']"
   ]
  },
  {
   "cell_type": "code",
   "execution_count": 73,
   "metadata": {},
   "outputs": [],
   "source": [
    "# problematic_datapoints_TrWP = problematic_datapoints[problematic_datapoints['rel'] == 'TrWP']"
   ]
  },
  {
   "cell_type": "code",
   "execution_count": 74,
   "metadata": {},
   "outputs": [],
   "source": [
    "# problematic_datapoints_TrWP.head(10)"
   ]
  },
  {
   "cell_type": "code",
   "execution_count": 75,
   "metadata": {},
   "outputs": [],
   "source": [
    "# problematic_datapoints_TrWP.iloc[7]['sentence']"
   ]
  },
  {
   "cell_type": "code",
   "execution_count": null,
   "metadata": {},
   "outputs": [],
   "source": []
  },
  {
   "cell_type": "code",
   "execution_count": null,
   "metadata": {},
   "outputs": [],
   "source": []
  }
 ],
 "metadata": {
  "kernelspec": {
   "display_name": "finetuneenv",
   "language": "python",
   "name": "python3"
  },
  "language_info": {
   "codemirror_mode": {
    "name": "ipython",
    "version": 3
   },
   "file_extension": ".py",
   "mimetype": "text/x-python",
   "name": "python",
   "nbconvert_exporter": "python",
   "pygments_lexer": "ipython3",
   "version": "3.7.16"
  },
  "orig_nbformat": 4
 },
 "nbformat": 4,
 "nbformat_minor": 2
}
