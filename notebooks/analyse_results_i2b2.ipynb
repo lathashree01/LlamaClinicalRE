{
 "cells": [
  {
   "cell_type": "markdown",
   "metadata": {},
   "source": [
    "# Results analysis i2b2 2010  dataset"
   ]
  },
  {
   "cell_type": "markdown",
   "metadata": {},
   "source": [
    "### Imports"
   ]
  },
  {
   "cell_type": "code",
   "execution_count": 20,
   "metadata": {},
   "outputs": [],
   "source": [
    "import os\n",
    "\n",
    "import pandas as pd\n",
    "import matplotlib.pyplot as plt\n",
    "import numpy as np\n",
    "import seaborn as sns\n",
    "\n",
    "from sklearn.metrics import confusion_matrix, ConfusionMatrixDisplay\n",
    "from sklearn.metrics import classification_report, f1_score, precision_recall_fscore_support"
   ]
  },
  {
   "cell_type": "code",
   "execution_count": 21,
   "metadata": {},
   "outputs": [],
   "source": [
    "data_file_path = \"/Users/lathapevi/Documents/thesis/important_results/i2b2/l1_pre_peft_i2b2_res.txt\"\n",
    "filepath=\"../datasets/i2b2_2010/new_test.tsv\"\n",
    "train_filepath=\"../datasets/i2b2_2010/new_train.tsv\"\n",
    "\n",
    "# n2c2_labels = [\"Strength-Drug\",\"Form-Drug\",\"Dosage-Drug\",\"Frequency-Drug\",\"Route-Drug\",\"Duration-Drug\",\"Reason-Drug\",\"ADE-Drug\"]\n",
    "i2b2_labels = ['TrIP', 'TrWP','TrCP','TrAP','TrNAP','PIP','TeRP','TeCP']\n",
    "label2id = {'TrIP': 0, 'TrWP': 1,'TrCP': 2,'TrAP': 3,'TrNAP': 4,'PIP': 5,'TeRP': 6,'TeCP': 7}\n",
    "id2label = {0: 'TrIP', 1: 'TrWP', 2: 'TrCP', 3: 'TrAP', 4: 'TrNAP', 5: 'PIP', 6: 'TeRP', 7: 'TeCP'}\n",
    "\n",
    "plot_labels = i2b2_labels"
   ]
  },
  {
   "cell_type": "markdown",
   "metadata": {},
   "source": [
    "### Load data"
   ]
  },
  {
   "cell_type": "code",
   "execution_count": 22,
   "metadata": {},
   "outputs": [],
   "source": [
    "# Load the results data file\n",
    "data = pd.read_csv(data_file_path, header=None)\n",
    "results_df = pd.concat([data.iloc[0], data.iloc[1]], axis=1)\n",
    "\n",
    "# Load the train data file\n",
    "train_data_df = pd.read_csv(train_filepath, header=None, delimiter='\\t', names=['sentence', 'label'])\n",
    "\n",
    "# Loading test data file\n",
    "test_data_df = pd.read_csv(filepath, header=None, delimiter='\\t', names=['sentence', 'label'])\n"
   ]
  },
  {
   "cell_type": "code",
   "execution_count": 23,
   "metadata": {},
   "outputs": [
    {
     "data": {
      "text/html": [
       "<div>\n",
       "<style scoped>\n",
       "    .dataframe tbody tr th:only-of-type {\n",
       "        vertical-align: middle;\n",
       "    }\n",
       "\n",
       "    .dataframe tbody tr th {\n",
       "        vertical-align: top;\n",
       "    }\n",
       "\n",
       "    .dataframe thead th {\n",
       "        text-align: right;\n",
       "    }\n",
       "</style>\n",
       "<table border=\"1\" class=\"dataframe\">\n",
       "  <thead>\n",
       "    <tr style=\"text-align: right;\">\n",
       "      <th></th>\n",
       "      <th>sentence</th>\n",
       "      <th>label</th>\n",
       "    </tr>\n",
       "  </thead>\n",
       "  <tbody>\n",
       "    <tr>\n",
       "      <th>0</th>\n",
       "      <td>Before this age and for the first 24 months of...</td>\n",
       "      <td>3</td>\n",
       "    </tr>\n",
       "    <tr>\n",
       "      <th>1</th>\n",
       "      <td>3. @State newborn screening$ sent per protocol...</td>\n",
       "      <td>6</td>\n",
       "    </tr>\n",
       "    <tr>\n",
       "      <th>2</th>\n",
       "      <td>2. @Apnea$ of @prematurity$ .\\n</td>\n",
       "      <td>5</td>\n",
       "    </tr>\n",
       "    <tr>\n",
       "      <th>3</th>\n",
       "      <td>@Initial differential$ was 35 polys and zero b...</td>\n",
       "      <td>6</td>\n",
       "    </tr>\n",
       "    <tr>\n",
       "      <th>4</th>\n",
       "      <td>Initial differential was @35 polys$ and zero b...</td>\n",
       "      <td>6</td>\n",
       "    </tr>\n",
       "  </tbody>\n",
       "</table>\n",
       "</div>"
      ],
      "text/plain": [
       "                                            sentence  label\n",
       "0  Before this age and for the first 24 months of...      3\n",
       "1  3. @State newborn screening$ sent per protocol...      6\n",
       "2                    2. @Apnea$ of @prematurity$ .\\n      5\n",
       "3  @Initial differential$ was 35 polys and zero b...      6\n",
       "4  Initial differential was @35 polys$ and zero b...      6"
      ]
     },
     "execution_count": 23,
     "metadata": {},
     "output_type": "execute_result"
    }
   ],
   "source": [
    "test_data_df.head()"
   ]
  },
  {
   "cell_type": "code",
   "execution_count": 24,
   "metadata": {},
   "outputs": [
    {
     "data": {
      "text/html": [
       "<div>\n",
       "<style scoped>\n",
       "    .dataframe tbody tr th:only-of-type {\n",
       "        vertical-align: middle;\n",
       "    }\n",
       "\n",
       "    .dataframe tbody tr th {\n",
       "        vertical-align: top;\n",
       "    }\n",
       "\n",
       "    .dataframe thead th {\n",
       "        text-align: right;\n",
       "    }\n",
       "</style>\n",
       "<table border=\"1\" class=\"dataframe\">\n",
       "  <thead>\n",
       "    <tr style=\"text-align: right;\">\n",
       "      <th></th>\n",
       "      <th>y_pred</th>\n",
       "      <th>y_true</th>\n",
       "    </tr>\n",
       "  </thead>\n",
       "  <tbody>\n",
       "    <tr>\n",
       "      <th>0</th>\n",
       "      <td>3</td>\n",
       "      <td>3</td>\n",
       "    </tr>\n",
       "    <tr>\n",
       "      <th>1</th>\n",
       "      <td>6</td>\n",
       "      <td>6</td>\n",
       "    </tr>\n",
       "    <tr>\n",
       "      <th>2</th>\n",
       "      <td>5</td>\n",
       "      <td>5</td>\n",
       "    </tr>\n",
       "    <tr>\n",
       "      <th>3</th>\n",
       "      <td>6</td>\n",
       "      <td>6</td>\n",
       "    </tr>\n",
       "    <tr>\n",
       "      <th>4</th>\n",
       "      <td>5</td>\n",
       "      <td>6</td>\n",
       "    </tr>\n",
       "    <tr>\n",
       "      <th>...</th>\n",
       "      <td>...</td>\n",
       "      <td>...</td>\n",
       "    </tr>\n",
       "    <tr>\n",
       "      <th>6288</th>\n",
       "      <td>6</td>\n",
       "      <td>6</td>\n",
       "    </tr>\n",
       "    <tr>\n",
       "      <th>6289</th>\n",
       "      <td>6</td>\n",
       "      <td>6</td>\n",
       "    </tr>\n",
       "    <tr>\n",
       "      <th>6290</th>\n",
       "      <td>3</td>\n",
       "      <td>3</td>\n",
       "    </tr>\n",
       "    <tr>\n",
       "      <th>6291</th>\n",
       "      <td>5</td>\n",
       "      <td>5</td>\n",
       "    </tr>\n",
       "    <tr>\n",
       "      <th>6292</th>\n",
       "      <td>5</td>\n",
       "      <td>5</td>\n",
       "    </tr>\n",
       "  </tbody>\n",
       "</table>\n",
       "<p>6293 rows × 2 columns</p>\n",
       "</div>"
      ],
      "text/plain": [
       "      y_pred  y_true\n",
       "0          3       3\n",
       "1          6       6\n",
       "2          5       5\n",
       "3          6       6\n",
       "4          5       6\n",
       "...      ...     ...\n",
       "6288       6       6\n",
       "6289       6       6\n",
       "6290       3       3\n",
       "6291       5       5\n",
       "6292       5       5\n",
       "\n",
       "[6293 rows x 2 columns]"
      ]
     },
     "execution_count": 24,
     "metadata": {},
     "output_type": "execute_result"
    }
   ],
   "source": [
    "results_df.columns = [\"y_pred\",\"y_true\"]\n",
    "results_df"
   ]
  },
  {
   "cell_type": "code",
   "execution_count": 25,
   "metadata": {},
   "outputs": [
    {
     "data": {
      "text/plain": [
       "array([3, 6, 5, 2, 0, 4, 7, 1])"
      ]
     },
     "execution_count": 25,
     "metadata": {},
     "output_type": "execute_result"
    }
   ],
   "source": [
    "results_df['y_true'].unique()\n",
    "results_df['y_pred'].unique()"
   ]
  },
  {
   "cell_type": "code",
   "execution_count": 26,
   "metadata": {},
   "outputs": [
    {
     "name": "stdout",
     "output_type": "stream",
     "text": [
      "No intracranial hemorrhage or @CT$ evidence of @acute infarction$ .\n",
      " 6\n"
     ]
    }
   ],
   "source": [
    "idx=10\n",
    "print(test_data_df.iloc[idx]['sentence'], test_data_df.iloc[idx]['label'])"
   ]
  },
  {
   "cell_type": "markdown",
   "metadata": {},
   "source": [
    "### Result analysis"
   ]
  },
  {
   "cell_type": "code",
   "execution_count": 27,
   "metadata": {},
   "outputs": [],
   "source": [
    "# Create a confusion matrix and other metrics\n",
    "y_true = results_df[\"y_true\"]\n",
    "y_preds = results_df[\"y_pred\"]\n",
    "\n",
    "f1 = f1_score(y_true, y_preds, average='micro')\n",
    "macro_vals = precision_recall_fscore_support(y_true, y_preds, average='macro')\n",
    "micro_vals = precision_recall_fscore_support(y_true, y_preds, average='micro')\n",
    "weighted_vals = precision_recall_fscore_support(y_true, y_preds, average='weighted')\n",
    "class_vals = precision_recall_fscore_support(y_true, y_preds, average=None)\n",
    "\n",
    "cm = confusion_matrix(y_true, y_preds, normalize='true')"
   ]
  },
  {
   "cell_type": "code",
   "execution_count": 28,
   "metadata": {},
   "outputs": [
    {
     "name": "stdout",
     "output_type": "stream",
     "text": [
      "(0.8921023359288098, 0.8921023359288098, 0.8921023359288098, None)\n",
      "(0.8345502988030463, 0.6673902761087074, 0.6967163796888448, None)\n",
      "(0.8943395114610186, 0.8921023359288098, 0.8842945342906863, None)\n",
      "(array([0.59333333, 1.        , 0.7039801 , 0.86461056, 0.78378378,\n",
      "       0.96700143, 0.93292395, 0.83076923]), array([0.58552632, 0.18348624, 0.82748538, 0.95496536, 0.25892857,\n",
      "       0.93093923, 0.95873786, 0.63905325]), array([0.58940397, 0.31007752, 0.76075269, 0.90754458, 0.38926174,\n",
      "       0.94862773, 0.94565478, 0.72240803]), array([ 152,  109,  342, 1732,  112, 1448, 2060,  338]))\n"
     ]
    }
   ],
   "source": [
    "print(micro_vals)\n",
    "print(macro_vals)\n",
    "print(weighted_vals)\n",
    "print(class_vals)"
   ]
  },
  {
   "cell_type": "code",
   "execution_count": 29,
   "metadata": {},
   "outputs": [
    {
     "name": "stdout",
     "output_type": "stream",
     "text": [
      "              precision    recall  f1-score   support\n",
      "\n",
      "        TrIP       0.59      0.59      0.59       152\n",
      "        TrWP       1.00      0.18      0.31       109\n",
      "        TrCP       0.70      0.83      0.76       342\n",
      "        TrAP       0.86      0.95      0.91      1732\n",
      "       TrNAP       0.78      0.26      0.39       112\n",
      "         PIP       0.97      0.93      0.95      1448\n",
      "        TeRP       0.93      0.96      0.95      2060\n",
      "        TeCP       0.83      0.64      0.72       338\n",
      "\n",
      "    accuracy                           0.89      6293\n",
      "   macro avg       0.83      0.67      0.70      6293\n",
      "weighted avg       0.89      0.89      0.88      6293\n",
      "\n"
     ]
    }
   ],
   "source": [
    "print(classification_report(y_true, y_preds, target_names=plot_labels))"
   ]
  },
  {
   "cell_type": "code",
   "execution_count": 30,
   "metadata": {},
   "outputs": [],
   "source": [
    "\n",
    "\n",
    "def cm_analysis(y_true, y_pred, filename, labels, ymap=None, figsize=(10,10)):\n",
    "    \"\"\"\n",
    "    Generate matrix plot of confusion matrix with pretty annotations.\n",
    "    The plot image is saved to disk.\n",
    "    args: \n",
    "      y_true:    true label of the data, with shape (nsamples,)\n",
    "      y_pred:    prediction of the data, with shape (nsamples,)\n",
    "      filename:  filename of figure file to save\n",
    "      labels:    string array, name the order of class labels in the confusion matrix.\n",
    "                 use `clf.classes_` if using scikit-learn models.\n",
    "                 with shape (nclass,).\n",
    "      ymap:      dict: any -> string, length == nclass.\n",
    "                 if not None, map the labels & ys to more understandable strings.\n",
    "                 Caution: original y_true, y_pred and labels must align.\n",
    "      figsize:   the size of the figure plotted.\n",
    "    \"\"\"\n",
    "    if ymap is not None:\n",
    "        y_pred = [ymap[yi] for yi in y_pred]\n",
    "        y_true = [ymap[yi] for yi in y_true]\n",
    "        labels = [ymap[yi] for yi in labels]\n",
    "    cm = confusion_matrix(y_true, y_pred, labels=labels)\n",
    "    cm_sum = np.sum(cm, axis=1, keepdims=True)\n",
    "    cm_perc = cm / cm_sum.astype(float) * 100\n",
    "    annot = np.empty_like(cm).astype(str)\n",
    "    nrows, ncols = cm.shape\n",
    "    for i in range(nrows):\n",
    "        for j in range(ncols):\n",
    "            c = cm[i, j]\n",
    "            p = cm_perc[i, j]\n",
    "            if i == j:\n",
    "                s = cm_sum[i]\n",
    "                annot[i, j] = '%.1f%%\\n%d/%d' % (p, c, s)\n",
    "            elif c == 0:\n",
    "                annot[i, j] = ''\n",
    "            else:\n",
    "                annot[i, j] = '%.1f%%\\n%d' % (p, c)\n",
    "    cm = pd.DataFrame(cm, index=labels, columns=labels)\n",
    "    cm.index.name = 'Actual'\n",
    "    cm.columns.name = 'Predicted'\n",
    "    fig, ax = plt.subplots(figsize=figsize)\n",
    "    sns.heatmap(cm, annot=annot, fmt='', ax=ax,cmap='rocket_r',annot_kws={'size': 7})\n",
    "    plt.yticks(rotation=0)\n",
    "    # plt.savefig(filename,bbox_inches='tight')"
   ]
  },
  {
   "cell_type": "code",
   "execution_count": 31,
   "metadata": {},
   "outputs": [],
   "source": [
    "num_labels = [0,1,2,3,4,5,6,7]"
   ]
  },
  {
   "cell_type": "code",
   "execution_count": 32,
   "metadata": {},
   "outputs": [
    {
     "name": "stdout",
     "output_type": "stream",
     "text": [
      "Confusion Matrix:\n",
      "[[  89    0    9   53    0    0    1    0]\n",
      " [  21   20   17   45    2    2    2    0]\n",
      " [   2    0  283   40    0   13    4    0]\n",
      " [  31    0   20 1654    6    5   10    6]\n",
      " [   3    0   22   57   29    0    0    1]\n",
      " [   3    0   33   41    0 1348   23    0]\n",
      " [   1    0   17    8    0   22 1975   37]\n",
      " [   0    0    1   15    0    4  102  216]]\n"
     ]
    },
    {
     "data": {
      "text/html": [
       "<div>\n",
       "<style scoped>\n",
       "    .dataframe tbody tr th:only-of-type {\n",
       "        vertical-align: middle;\n",
       "    }\n",
       "\n",
       "    .dataframe tbody tr th {\n",
       "        vertical-align: top;\n",
       "    }\n",
       "\n",
       "    .dataframe thead th {\n",
       "        text-align: right;\n",
       "    }\n",
       "</style>\n",
       "<table border=\"1\" class=\"dataframe\">\n",
       "  <thead>\n",
       "    <tr style=\"text-align: right;\">\n",
       "      <th></th>\n",
       "      <th>0</th>\n",
       "      <th>1</th>\n",
       "      <th>2</th>\n",
       "      <th>3</th>\n",
       "      <th>4</th>\n",
       "      <th>5</th>\n",
       "      <th>6</th>\n",
       "      <th>7</th>\n",
       "    </tr>\n",
       "  </thead>\n",
       "  <tbody>\n",
       "    <tr>\n",
       "      <th>0</th>\n",
       "      <td>58.55</td>\n",
       "      <td>0.00</td>\n",
       "      <td>5.92</td>\n",
       "      <td>34.87</td>\n",
       "      <td>0.00</td>\n",
       "      <td>0.00</td>\n",
       "      <td>0.66</td>\n",
       "      <td>0.00</td>\n",
       "    </tr>\n",
       "    <tr>\n",
       "      <th>1</th>\n",
       "      <td>19.27</td>\n",
       "      <td>18.35</td>\n",
       "      <td>15.60</td>\n",
       "      <td>41.28</td>\n",
       "      <td>1.83</td>\n",
       "      <td>1.83</td>\n",
       "      <td>1.83</td>\n",
       "      <td>0.00</td>\n",
       "    </tr>\n",
       "    <tr>\n",
       "      <th>2</th>\n",
       "      <td>0.58</td>\n",
       "      <td>0.00</td>\n",
       "      <td>82.75</td>\n",
       "      <td>11.70</td>\n",
       "      <td>0.00</td>\n",
       "      <td>3.80</td>\n",
       "      <td>1.17</td>\n",
       "      <td>0.00</td>\n",
       "    </tr>\n",
       "    <tr>\n",
       "      <th>3</th>\n",
       "      <td>1.79</td>\n",
       "      <td>0.00</td>\n",
       "      <td>1.15</td>\n",
       "      <td>95.50</td>\n",
       "      <td>0.35</td>\n",
       "      <td>0.29</td>\n",
       "      <td>0.58</td>\n",
       "      <td>0.35</td>\n",
       "    </tr>\n",
       "    <tr>\n",
       "      <th>4</th>\n",
       "      <td>2.68</td>\n",
       "      <td>0.00</td>\n",
       "      <td>19.64</td>\n",
       "      <td>50.89</td>\n",
       "      <td>25.89</td>\n",
       "      <td>0.00</td>\n",
       "      <td>0.00</td>\n",
       "      <td>0.89</td>\n",
       "    </tr>\n",
       "    <tr>\n",
       "      <th>5</th>\n",
       "      <td>0.21</td>\n",
       "      <td>0.00</td>\n",
       "      <td>2.28</td>\n",
       "      <td>2.83</td>\n",
       "      <td>0.00</td>\n",
       "      <td>93.09</td>\n",
       "      <td>1.59</td>\n",
       "      <td>0.00</td>\n",
       "    </tr>\n",
       "    <tr>\n",
       "      <th>6</th>\n",
       "      <td>0.05</td>\n",
       "      <td>0.00</td>\n",
       "      <td>0.83</td>\n",
       "      <td>0.39</td>\n",
       "      <td>0.00</td>\n",
       "      <td>1.07</td>\n",
       "      <td>95.87</td>\n",
       "      <td>1.80</td>\n",
       "    </tr>\n",
       "    <tr>\n",
       "      <th>7</th>\n",
       "      <td>0.00</td>\n",
       "      <td>0.00</td>\n",
       "      <td>0.30</td>\n",
       "      <td>4.44</td>\n",
       "      <td>0.00</td>\n",
       "      <td>1.18</td>\n",
       "      <td>30.18</td>\n",
       "      <td>63.91</td>\n",
       "    </tr>\n",
       "  </tbody>\n",
       "</table>\n",
       "</div>"
      ],
      "text/plain": [
       "       0      1      2      3      4      5      6      7\n",
       "0  58.55   0.00   5.92  34.87   0.00   0.00   0.66   0.00\n",
       "1  19.27  18.35  15.60  41.28   1.83   1.83   1.83   0.00\n",
       "2   0.58   0.00  82.75  11.70   0.00   3.80   1.17   0.00\n",
       "3   1.79   0.00   1.15  95.50   0.35   0.29   0.58   0.35\n",
       "4   2.68   0.00  19.64  50.89  25.89   0.00   0.00   0.89\n",
       "5   0.21   0.00   2.28   2.83   0.00  93.09   1.59   0.00\n",
       "6   0.05   0.00   0.83   0.39   0.00   1.07  95.87   1.80\n",
       "7   0.00   0.00   0.30   4.44   0.00   1.18  30.18  63.91"
      ]
     },
     "execution_count": 32,
     "metadata": {},
     "output_type": "execute_result"
    }
   ],
   "source": [
    "# Calculate the confusion matrix\n",
    "confusion = confusion_matrix(y_true, y_preds, labels=num_labels)\n",
    "\n",
    "print(\"Confusion Matrix:\")\n",
    "print(confusion)\n",
    "\n",
    "cm_df = pd.DataFrame(confusion)\n",
    "\n",
    "# Calculate ratios\n",
    "df_ratios = cm_df.div(cm_df.sum(axis=1), axis=0).round(4) *100\n",
    "\n",
    "# df_norm_col\n",
    "df_ratios "
   ]
  },
  {
   "cell_type": "code",
   "execution_count": 33,
   "metadata": {},
   "outputs": [
    {
     "data": {
      "image/png": "[encoded data removed]",
      "text/plain": [
       "<Figure size 800x600 with 2 Axes>"
      ]
     },
     "metadata": {},
     "output_type": "display_data"
    }
   ],
   "source": [
    "# Create a heatmap of the confusion matrix\n",
    "plt.figure(figsize=(8, 6))\n",
    "sns.heatmap(df_ratios, annot=True,fmt=\".2f\", cmap='rocket_r',vmin=0, vmax=100, xticklabels=plot_labels, yticklabels=plot_labels )\n",
    "plt.xlabel('Predicted')\n",
    "plt.ylabel('Actual')\n",
    "plt.xticks(rotation=0)\n",
    "plt.yticks(rotation=0)\n",
    "plt.savefig(\"../vsiaulisation/i2b2_final_cm.pdf\",bbox_inches='tight')\n",
    "plt.show()"
   ]
  },
  {
   "cell_type": "code",
   "execution_count": 35,
   "metadata": {},
   "outputs": [],
   "source": [
    "# # Get unique labels and their respective counts for true and predicted labels\n",
    "# unique_true_labels, true_label_counts = combined_data_df['y_true'].value_counts().sort_index().index, combined_data_df['y_true'].value_counts().sort_index().values\n",
    "# unique_predicted_labels, predicted_label_counts = combined_data_df['y_pred'].value_counts().sort_index().index, combined_data_df['y_pred'].value_counts().sort_index().values\n",
    "\n",
    "# print(unique_true_labels)\n",
    "# print(unique_predicted_labels)\n",
    "# bar_width = 0.5 \n",
    "\n",
    "# # Set position of bar on X axis\n",
    "# br1 = np.arange(len(unique_true_labels))\n",
    "# br2 = [x + bar_width for x in br1]\n",
    "\n",
    "# # Make the plot\n",
    "# plt.bar(br1, true_label_counts, color ='r', width = bar_width,\n",
    "#         edgecolor ='grey', label ='IT')\n",
    "# plt.bar(br2, predicted_label_counts, color ='g', width = bar_width,\n",
    "#         edgecolor ='grey', label ='ECE')\n",
    "\n",
    "# # Add labels and title\n",
    "# plt.xlabel('Class Label')\n",
    "# plt.ylabel('Count')\n",
    "# plt.title('Class Importance Plot')\n",
    "# plt.legend()\n",
    "\n",
    "# # Show the plot\n",
    "# plt.show()"
   ]
  },
  {
   "cell_type": "code",
   "execution_count": 11,
   "metadata": {},
   "outputs": [],
   "source": [
    "# true_grouped = df.groupby('true_labels').size()\n",
    "# predicted_grouped = df.groupby('predicted_labels').size()\n",
    "\n",
    "# predicted_grouped.plot(kind='bar', stacked=True, rot=0)\n",
    "# plt.xlabel('Model 1 Predictions')\n",
    "# plt.ylabel('Count')\n",
    "# plt.title('Grouped Bar Chart of Wrongly Classified Datapoints')\n",
    "# plt.legend(title='Model 2 Predictions', loc='upper right')\n",
    "# plt.show()"
   ]
  },
  {
   "cell_type": "markdown",
   "metadata": {},
   "source": [
    "### Class Importance Analysis"
   ]
  },
  {
   "cell_type": "code",
   "execution_count": 41,
   "metadata": {},
   "outputs": [
    {
     "name": "stdout",
     "output_type": "stream",
     "text": [
      "[152, 109, 342, 1732, 112, 1448, 2060, 338]\n",
      "[150, 20, 402, 1913, 37, 1394, 2117, 260]\n",
      "[89, 20, 283, 1654, 29, 1348, 1975, 216]\n"
     ]
    }
   ],
   "source": [
    "data = {\n",
    "    'true_labels': results_df['y_true'].values.tolist(),\n",
    "    'predicted_labels': results_df['y_pred'].values.tolist()\n",
    "}\n",
    "df = pd.DataFrame(data)\n",
    "true = df.groupby('true_labels').size().tolist()\n",
    "preds = df.groupby('predicted_labels').size().tolist()\n",
    "correct = df[df['true_labels'] == df['predicted_labels']].groupby('true_labels').size().tolist()\n",
    "print(true)\n",
    "print(preds)\n",
    "print(correct)\n",
    "\n",
    "train_distribution = train_data_df['label'].value_counts()\n",
    "test_distribution = test_data_df['label'].value_counts()\n",
    "correct_distribution = df[df['true_labels'] == df['predicted_labels']].value_counts()"
   ]
  },
  {
   "cell_type": "code",
   "execution_count": 43,
   "metadata": {},
   "outputs": [
    {
     "name": "stdout",
     "output_type": "stream",
     "text": [
      "6    993\n",
      "3    885\n",
      "5    755\n",
      "2    184\n",
      "7    166\n",
      "4     62\n",
      "0     51\n",
      "1     24\n",
      "Name: label, dtype: int64\n",
      "6    2060\n",
      "3    1732\n",
      "5    1448\n",
      "2     342\n",
      "7     338\n",
      "0     152\n",
      "4     112\n",
      "1     109\n",
      "Name: label, dtype: int64\n",
      "true_labels  predicted_labels\n",
      "6            6                   1975\n",
      "3            3                   1654\n",
      "5            5                   1348\n",
      "2            2                    283\n",
      "7            7                    216\n",
      "0            0                     89\n",
      "4            4                     29\n",
      "1            1                     20\n",
      "dtype: int64\n"
     ]
    }
   ],
   "source": [
    "print(train_distribution)\n",
    "print(test_distribution)\n",
    "print(correct_distribution)"
   ]
  },
  {
   "cell_type": "code",
   "execution_count": 39,
   "metadata": {},
   "outputs": [
    {
     "name": "stdout",
     "output_type": "stream",
     "text": [
      "[51, 24, 184, 885, 62, 755, 993, 166]\n",
      "[0.02, 0.01, 0.06, 0.28, 0.02, 0.24, 0.32, 0.05]\n",
      "[0.02, 0.02, 0.05, 0.28, 0.02, 0.23, 0.33, 0.05]\n",
      "[0.02, 0.0, 0.06, 0.3, 0.01, 0.22, 0.34, 0.04]\n"
     ]
    }
   ],
   "source": [
    "total_samples = len(results_df)\n",
    "\n",
    "train_proportion = train_data_df.groupby('label').size().tolist()\n",
    "num_train_samples = len(train_data_df)\n",
    "print(train_proportion)\n",
    "train_prop = []\n",
    "for num in train_proportion:\n",
    "    train_prop.append(round(num / num_train_samples, 2))\n",
    "print(train_prop)\n",
    "\n",
    "test_proportion = test_data_df.groupby('label').size().tolist()\n",
    "num_test_samples = len(test_data_df)\n",
    "test_prop = []\n",
    "for num in test_proportion:\n",
    "    test_prop.append(round(num / num_test_samples, 2))\n",
    "print(test_prop)\n",
    "\n",
    "correct_prop = []\n",
    "for pred in preds:\n",
    "    correct_prop.append(round(pred / num_test_samples, 2))\n",
    "\n",
    "print(correct_prop)"
   ]
  },
  {
   "cell_type": "code",
   "execution_count": 40,
   "metadata": {},
   "outputs": [
    {
     "name": "stderr",
     "output_type": "stream",
     "text": [
      "/opt/anaconda3/envs/thesis02/lib/python3.7/site-packages/ipykernel_launcher.py:9: UserWarning: FixedFormatter should only be used together with FixedLocator\n",
      "  if __name__ == \"__main__\":\n",
      "/opt/anaconda3/envs/thesis02/lib/python3.7/site-packages/ipykernel_launcher.py:38: UserWarning: This figure was using constrained_layout, but that is incompatible with subplots_adjust and/or tight_layout; disabling constrained_layout.\n"
     ]
    },
    {
     "data": {
      "image/png": "[encoded data removed]",
      "text/plain": [
       "<Figure size 640x480 with 1 Axes>"
      ]
     },
     "metadata": {},
     "output_type": "display_data"
    }
   ],
   "source": [
    "x = np.arange(len(plot_labels))  # the label locations\n",
    "width = 0.3 # the width of the bars\n",
    "\n",
    "fig, ax = plt.subplots(layout=\"constrained\")\n",
    "rects1 = ax.bar(x , train_proportion, width, label='Train set labels', color='lightseagreen')\n",
    "rects2 = ax.bar(x + width, test_proportion, width, label='Test set labels')\n",
    "rects3 = ax.bar(x + 2*width, correct, width, label='Correctly Predicted labels', color='lightcoral')\n",
    "\n",
    "ax.set_xticklabels(plot_labels, fontsize=\"8\")\n",
    "\n",
    "# ax.set_title('Class Importance Plot - True vs Predicted Labels',fontsize=\"10\")\n",
    "ax.set_xlabel('Relation Class',fontsize=\"10\")\n",
    "ax.set_ylabel('Count',fontsize=\"10\",labelpad=15)\n",
    "\n",
    "ax.spines['top'].set_visible(True)\n",
    "ax.spines['bottom'].set_visible(True)\n",
    "ax.spines['left'].set_visible(True)\n",
    "ax.spines['right'].set_visible(True)\n",
    "\n",
    "ax.set_xticks(x+width, plot_labels)\n",
    "ax.tick_params(bottom=False, left=False)\n",
    "\n",
    "ax.legend(fontsize=\"7\", loc =\"upper left\")\n",
    "\n",
    "ax.bar_label(rects1, padding=4, fontsize=\"6\")\n",
    "ax.bar_label(rects2, padding=4, fontsize=\"6\")\n",
    "ax.bar_label(rects3, padding=4, fontsize=\"6\")\n",
    "\n",
    "fig.tight_layout()\n",
    "\n",
    "plt.savefig(\"/Users/lathapevi/Documents/git_repos/thesis/src/visualisation/class_importance_plot_i2b2_2010.pdf\")\n",
    "plt.show()\n",
    "\n"
   ]
  },
  {
   "cell_type": "markdown",
   "metadata": {},
   "source": [
    "### Error Analysis"
   ]
  },
  {
   "cell_type": "code",
   "execution_count": 14,
   "metadata": {},
   "outputs": [],
   "source": [
    "import nltk\n",
    "from nltk.tokenize import sent_tokenize, word_tokenize"
   ]
  },
  {
   "cell_type": "code",
   "execution_count": 15,
   "metadata": {},
   "outputs": [
    {
     "data": {
      "text/plain": [
       "Index(['sentence', 'label', 'sentence_len'], dtype='object')"
      ]
     },
     "execution_count": 15,
     "metadata": {},
     "output_type": "execute_result"
    }
   ],
   "source": [
    "test_data_df['sentence_len'] = test_data_df['sentence'].apply(lambda text: len(word_tokenize(text)))\n",
    "test_data_df.columns\n",
    "# data_df = data_df.drop('senetence_len', axis=1)"
   ]
  },
  {
   "cell_type": "code",
   "execution_count": 16,
   "metadata": {},
   "outputs": [
    {
     "name": "stdout",
     "output_type": "stream",
     "text": [
      "Wrongly classified 679\n",
      "Correctly classified 5614\n",
      "Total 6293\n"
     ]
    }
   ],
   "source": [
    "wrongly_classified_df = results_df[results_df[\"y_pred\"] != results_df[\"y_true\"]]\n",
    "correctly_classified_df = results_df[results_df[\"y_pred\"] == results_df[\"y_true\"]]\n",
    "print(\"Wrongly classified {}\".format(len(wrongly_classified_df)))\n",
    "print(\"Correctly classified {}\".format(len(correctly_classified_df)))\n",
    "print(\"Total {}\".format(len(results_df)))"
   ]
  },
  {
   "cell_type": "code",
   "execution_count": 110,
   "metadata": {},
   "outputs": [
    {
     "data": {
      "text/html": [
       "<div>\n",
       "<style scoped>\n",
       "    .dataframe tbody tr th:only-of-type {\n",
       "        vertical-align: middle;\n",
       "    }\n",
       "\n",
       "    .dataframe tbody tr th {\n",
       "        vertical-align: top;\n",
       "    }\n",
       "\n",
       "    .dataframe thead th {\n",
       "        text-align: right;\n",
       "    }\n",
       "</style>\n",
       "<table border=\"1\" class=\"dataframe\">\n",
       "  <thead>\n",
       "    <tr style=\"text-align: right;\">\n",
       "      <th></th>\n",
       "      <th>y_pred</th>\n",
       "      <th>y_true</th>\n",
       "    </tr>\n",
       "  </thead>\n",
       "  <tbody>\n",
       "    <tr>\n",
       "      <th>4</th>\n",
       "      <td>5</td>\n",
       "      <td>6</td>\n",
       "    </tr>\n",
       "    <tr>\n",
       "      <th>5</th>\n",
       "      <td>5</td>\n",
       "      <td>6</td>\n",
       "    </tr>\n",
       "    <tr>\n",
       "      <th>35</th>\n",
       "      <td>2</td>\n",
       "      <td>1</td>\n",
       "    </tr>\n",
       "    <tr>\n",
       "      <th>52</th>\n",
       "      <td>6</td>\n",
       "      <td>2</td>\n",
       "    </tr>\n",
       "    <tr>\n",
       "      <th>57</th>\n",
       "      <td>3</td>\n",
       "      <td>5</td>\n",
       "    </tr>\n",
       "  </tbody>\n",
       "</table>\n",
       "</div>"
      ],
      "text/plain": [
       "    y_pred  y_true\n",
       "4        5       6\n",
       "5        5       6\n",
       "35       2       1\n",
       "52       6       2\n",
       "57       3       5"
      ]
     },
     "execution_count": 110,
     "metadata": {},
     "output_type": "execute_result"
    }
   ],
   "source": [
    "wrongly_classified_df.head(5)"
   ]
  },
  {
   "cell_type": "code",
   "execution_count": 17,
   "metadata": {},
   "outputs": [],
   "source": [
    "combined_data_df = pd.concat([test_data_df, results_df], axis=1)"
   ]
  },
  {
   "cell_type": "code",
   "execution_count": 18,
   "metadata": {},
   "outputs": [
    {
     "data": {
      "text/plain": [
       "Index(['sentence', 'label', 'sentence_len', 'y_pred', 'y_true'], dtype='object')"
      ]
     },
     "execution_count": 18,
     "metadata": {},
     "output_type": "execute_result"
    }
   ],
   "source": [
    "combined_data_df.columns"
   ]
  },
  {
   "cell_type": "code",
   "execution_count": 115,
   "metadata": {},
   "outputs": [],
   "source": [
    "# Calculate the total number of wrong predictions\n",
    "total_wrong_predictions = len(wrongly_classified_df)\n",
    "\n",
    "# Define bins for text length\n",
    "bin_edges = [0, 20, 40, 60, 80, float('inf')]\n",
    "bin_labels = ['0-20', '20-40', '40-60', '60-80', '80+']\n",
    "\n",
    "# Create a new column 'text_length_bin' to represent the bins\n",
    "combined_data_df['sentence_len_bin'] = pd.cut(combined_data_df['sentence_len'], bins=bin_edges, labels=bin_labels, right=False)\n",
    "\n",
    "# Calculate the total number of wrong predictions\n",
    "# total_wrong_predictions = combined_data_df[combined_data_df['y_true'] != combined_data_df['y_pred']].shape[0]\n",
    "\n",
    "# Group by text length bins and calculate the proportion of wrong predictions for each group\n",
    "proportion_wrong_predictions = (\n",
    "    combined_data_df[combined_data_df['y_true'] != combined_data_df['y_pred']]\n",
    "    .groupby('sentence_len_bin')\n",
    "    .size()\n",
    "    .div(total_wrong_predictions)\n",
    "    .reset_index(name='proportion_wrong')\n",
    ")\n",
    "\n"
   ]
  },
  {
   "cell_type": "code",
   "execution_count": 123,
   "metadata": {},
   "outputs": [
    {
     "name": "stderr",
     "output_type": "stream",
     "text": [
      "/opt/anaconda3/envs/thesis02/lib/python3.7/site-packages/ipykernel_launcher.py:7: UserWarning: FixedFormatter should only be used together with FixedLocator\n",
      "  import sys\n",
      "No artists with labels found to put in legend.  Note that artists whose label start with an underscore are ignored when legend() is called with no argument.\n"
     ]
    },
    {
     "data": {
      "image/png": "[encoded data removed]",
      "text/plain": [
       "<Figure size 640x480 with 1 Axes>"
      ]
     },
     "metadata": {},
     "output_type": "display_data"
    }
   ],
   "source": [
    "# ANALYSIS THE CLASS LABELS with that of INPUT_LENGTH\n",
    "\n",
    "fig, ax = plt.subplots()\n",
    "\n",
    "ax.scatter(test_data_df['label'], test_data_df['sentence_len'], marker=\".\", alpha=0.5, c=\"blueviolet\")\n",
    "\n",
    "ax.set_xticklabels(plot_labels, fontsize=\"8\")\n",
    "# Add some text for labels, title and custom x-axis tick labels, etc.\n",
    "\n",
    "ax.set_title('Input Text Length vs Relation class',fontsize=\"10\")\n",
    "ax.set_xlabel('Relation Class',fontsize=\"10\")\n",
    "ax.set_ylabel('Text Length',fontsize=\"10\")\n",
    "\n",
    "ax.spines['top'].set_visible(False)\n",
    "ax.spines['right'].set_visible(False)\n",
    "ax.spines['bottom'].set_color('#DDDDDD')\n",
    "ax.spines['left'].set_visible(False)\n",
    "\n",
    "ax.legend(fontsize=\"7\", loc =\"upper left\")\n",
    "ax.set_xticks(x+width, plot_labels)\n",
    "ax.tick_params(bottom=False, left=False)\n",
    "ax.set_axisbelow(False)\n",
    "ax.yaxis.grid(True, color='#EEEEEE')\n",
    "ax.xaxis.grid(False)\n",
    "\n",
    "fig.tight_layout()\n",
    "\n",
    "# plt.xticks(labels=plot_labels, fontsize=\"8\")\n",
    "plt.savefig(\"/Users/lathapevi/Documents/git_repos/thesis/src/visualisation/class_label_vs_input_length_i2b2_2010.pdf\")\n",
    "plt.show()"
   ]
  },
  {
   "cell_type": "code",
   "execution_count": 19,
   "metadata": {},
   "outputs": [
    {
     "data": {
      "text/html": [
       "<div>\n",
       "<style scoped>\n",
       "    .dataframe tbody tr th:only-of-type {\n",
       "        vertical-align: middle;\n",
       "    }\n",
       "\n",
       "    .dataframe tbody tr th {\n",
       "        vertical-align: top;\n",
       "    }\n",
       "\n",
       "    .dataframe thead th {\n",
       "        text-align: right;\n",
       "    }\n",
       "</style>\n",
       "<table border=\"1\" class=\"dataframe\">\n",
       "  <thead>\n",
       "    <tr style=\"text-align: right;\">\n",
       "      <th></th>\n",
       "      <th>sentence</th>\n",
       "      <th>label</th>\n",
       "      <th>sentence_len</th>\n",
       "      <th>y_pred</th>\n",
       "      <th>y_true</th>\n",
       "      <th>rel</th>\n",
       "    </tr>\n",
       "  </thead>\n",
       "  <tbody>\n",
       "    <tr>\n",
       "      <th>0</th>\n",
       "      <td>Before this age and for the first 24 months of...</td>\n",
       "      <td>3</td>\n",
       "      <td>33</td>\n",
       "      <td>3</td>\n",
       "      <td>3</td>\n",
       "      <td>TrAP</td>\n",
       "    </tr>\n",
       "    <tr>\n",
       "      <th>1</th>\n",
       "      <td>3. @State newborn screening$ sent per protocol...</td>\n",
       "      <td>6</td>\n",
       "      <td>20</td>\n",
       "      <td>6</td>\n",
       "      <td>6</td>\n",
       "      <td>TeRP</td>\n",
       "    </tr>\n",
       "    <tr>\n",
       "      <th>2</th>\n",
       "      <td>2. @Apnea$ of @prematurity$ .\\n</td>\n",
       "      <td>5</td>\n",
       "      <td>10</td>\n",
       "      <td>5</td>\n",
       "      <td>5</td>\n",
       "      <td>PIP</td>\n",
       "    </tr>\n",
       "    <tr>\n",
       "      <th>3</th>\n",
       "      <td>@Initial differential$ was 35 polys and zero b...</td>\n",
       "      <td>6</td>\n",
       "      <td>19</td>\n",
       "      <td>6</td>\n",
       "      <td>6</td>\n",
       "      <td>TeRP</td>\n",
       "    </tr>\n",
       "    <tr>\n",
       "      <th>4</th>\n",
       "      <td>Initial differential was @35 polys$ and zero b...</td>\n",
       "      <td>6</td>\n",
       "      <td>19</td>\n",
       "      <td>5</td>\n",
       "      <td>6</td>\n",
       "      <td>TeRP</td>\n",
       "    </tr>\n",
       "  </tbody>\n",
       "</table>\n",
       "</div>"
      ],
      "text/plain": [
       "                                            sentence  label  sentence_len  \\\n",
       "0  Before this age and for the first 24 months of...      3            33   \n",
       "1  3. @State newborn screening$ sent per protocol...      6            20   \n",
       "2                    2. @Apnea$ of @prematurity$ .\\n      5            10   \n",
       "3  @Initial differential$ was 35 polys and zero b...      6            19   \n",
       "4  Initial differential was @35 polys$ and zero b...      6            19   \n",
       "\n",
       "   y_pred  y_true   rel  \n",
       "0       3       3  TrAP  \n",
       "1       6       6  TeRP  \n",
       "2       5       5   PIP  \n",
       "3       6       6  TeRP  \n",
       "4       5       6  TeRP  "
      ]
     },
     "execution_count": 19,
     "metadata": {},
     "output_type": "execute_result"
    }
   ],
   "source": [
    "combined_data_df['rel'] = combined_data_df['label'].map(id2label)\n",
    "combined_data_df.head(5)"
   ]
  },
  {
   "cell_type": "code",
   "execution_count": null,
   "metadata": {},
   "outputs": [],
   "source": [
    "problematic_datapoints = combined_data_df[combined_data_df['y_true'] != combined_data_df['y_pred']]\n",
    "problematic_datapoints.head(5)"
   ]
  },
  {
   "cell_type": "code",
   "execution_count": 126,
   "metadata": {},
   "outputs": [],
   "source": [
    "problematic_datapoints.to_csv(\"/Users/lathapevi/Documents/git_repos/thesis/datasets/i2b2_2010/problematic_datapoints.csv\", index=False)"
   ]
  },
  {
   "cell_type": "code",
   "execution_count": 32,
   "metadata": {},
   "outputs": [
    {
     "data": {
      "text/html": [
       "<div>\n",
       "<style scoped>\n",
       "    .dataframe tbody tr th:only-of-type {\n",
       "        vertical-align: middle;\n",
       "    }\n",
       "\n",
       "    .dataframe tbody tr th {\n",
       "        vertical-align: top;\n",
       "    }\n",
       "\n",
       "    .dataframe thead th {\n",
       "        text-align: right;\n",
       "    }\n",
       "</style>\n",
       "<table border=\"1\" class=\"dataframe\">\n",
       "  <thead>\n",
       "    <tr style=\"text-align: right;\">\n",
       "      <th></th>\n",
       "      <th>sentence</th>\n",
       "      <th>label</th>\n",
       "      <th>sentence_len</th>\n",
       "      <th>y_pred</th>\n",
       "      <th>y_true</th>\n",
       "      <th>sentence_len_bin</th>\n",
       "      <th>rel</th>\n",
       "    </tr>\n",
       "  </thead>\n",
       "  <tbody>\n",
       "    <tr>\n",
       "      <th>0</th>\n",
       "      <td>Before this age and for the first 24 months of...</td>\n",
       "      <td>3</td>\n",
       "      <td>33</td>\n",
       "      <td>3</td>\n",
       "      <td>3</td>\n",
       "      <td>&lt;= 50</td>\n",
       "      <td>TrAP</td>\n",
       "    </tr>\n",
       "    <tr>\n",
       "      <th>1</th>\n",
       "      <td>3. @State newborn screening$ sent per protocol...</td>\n",
       "      <td>6</td>\n",
       "      <td>20</td>\n",
       "      <td>6</td>\n",
       "      <td>6</td>\n",
       "      <td>&lt;= 50</td>\n",
       "      <td>TeRP</td>\n",
       "    </tr>\n",
       "    <tr>\n",
       "      <th>2</th>\n",
       "      <td>2. @Apnea$ of @prematurity$ .\\n</td>\n",
       "      <td>5</td>\n",
       "      <td>10</td>\n",
       "      <td>5</td>\n",
       "      <td>5</td>\n",
       "      <td>&lt;= 50</td>\n",
       "      <td>PIP</td>\n",
       "    </tr>\n",
       "    <tr>\n",
       "      <th>3</th>\n",
       "      <td>@Initial differential$ was 35 polys and zero b...</td>\n",
       "      <td>6</td>\n",
       "      <td>19</td>\n",
       "      <td>6</td>\n",
       "      <td>6</td>\n",
       "      <td>&lt;= 50</td>\n",
       "      <td>TeRP</td>\n",
       "    </tr>\n",
       "    <tr>\n",
       "      <th>6</th>\n",
       "      <td>Notably with respect to apnea and @bradycardia...</td>\n",
       "      <td>5</td>\n",
       "      <td>33</td>\n",
       "      <td>5</td>\n",
       "      <td>5</td>\n",
       "      <td>&lt;= 50</td>\n",
       "      <td>PIP</td>\n",
       "    </tr>\n",
       "  </tbody>\n",
       "</table>\n",
       "</div>"
      ],
      "text/plain": [
       "                                            sentence  label  sentence_len  \\\n",
       "0  Before this age and for the first 24 months of...      3            33   \n",
       "1  3. @State newborn screening$ sent per protocol...      6            20   \n",
       "2                    2. @Apnea$ of @prematurity$ .\\n      5            10   \n",
       "3  @Initial differential$ was 35 polys and zero b...      6            19   \n",
       "6  Notably with respect to apnea and @bradycardia...      5            33   \n",
       "\n",
       "   y_pred  y_true sentence_len_bin   rel  \n",
       "0       3       3            <= 50  TrAP  \n",
       "1       6       6            <= 50  TeRP  \n",
       "2       5       5            <= 50   PIP  \n",
       "3       6       6            <= 50  TeRP  \n",
       "6       5       5            <= 50   PIP  "
      ]
     },
     "execution_count": 32,
     "metadata": {},
     "output_type": "execute_result"
    }
   ],
   "source": [
    "correct_datapoints = combined_data_df[combined_data_df['y_true'] == combined_data_df['y_pred']]\n",
    "correct_datapoints.head(5)"
   ]
  },
  {
   "cell_type": "code",
   "execution_count": 33,
   "metadata": {},
   "outputs": [
    {
     "data": {
      "text/plain": [
       "'Initial differential was @35 polys$ and zero bands , not suspicious for @infectious condition$ .\\n'"
      ]
     },
     "execution_count": 33,
     "metadata": {},
     "output_type": "execute_result"
    }
   ],
   "source": [
    "problematic_datapoints.iloc[0]['sentence']"
   ]
  },
  {
   "cell_type": "code",
   "execution_count": 34,
   "metadata": {},
   "outputs": [],
   "source": [
    "problematic_datapoints_TrWP = problematic_datapoints[problematic_datapoints['rel'] == 'TrWP']"
   ]
  },
  {
   "cell_type": "code",
   "execution_count": 35,
   "metadata": {},
   "outputs": [
    {
     "data": {
      "text/html": [
       "<div>\n",
       "<style scoped>\n",
       "    .dataframe tbody tr th:only-of-type {\n",
       "        vertical-align: middle;\n",
       "    }\n",
       "\n",
       "    .dataframe tbody tr th {\n",
       "        vertical-align: top;\n",
       "    }\n",
       "\n",
       "    .dataframe thead th {\n",
       "        text-align: right;\n",
       "    }\n",
       "</style>\n",
       "<table border=\"1\" class=\"dataframe\">\n",
       "  <thead>\n",
       "    <tr style=\"text-align: right;\">\n",
       "      <th></th>\n",
       "      <th>sentence</th>\n",
       "      <th>label</th>\n",
       "      <th>sentence_len</th>\n",
       "      <th>y_pred</th>\n",
       "      <th>y_true</th>\n",
       "      <th>sentence_len_bin</th>\n",
       "      <th>rel</th>\n",
       "    </tr>\n",
       "  </thead>\n",
       "  <tbody>\n",
       "    <tr>\n",
       "      <th>35</th>\n",
       "      <td>He was given @D50$ , but continued to have @pr...</td>\n",
       "      <td>1</td>\n",
       "      <td>42</td>\n",
       "      <td>2</td>\n",
       "      <td>1</td>\n",
       "      <td>&lt;= 50</td>\n",
       "      <td>TrWP</td>\n",
       "    </tr>\n",
       "    <tr>\n",
       "      <th>79</th>\n",
       "      <td>He has had 2 6 week courses of @antibiotics$ w...</td>\n",
       "      <td>1</td>\n",
       "      <td>17</td>\n",
       "      <td>3</td>\n",
       "      <td>1</td>\n",
       "      <td>&lt;= 50</td>\n",
       "      <td>TrWP</td>\n",
       "    </tr>\n",
       "    <tr>\n",
       "      <th>319</th>\n",
       "      <td>@The ascites$ quickly accumulated after @each ...</td>\n",
       "      <td>1</td>\n",
       "      <td>12</td>\n",
       "      <td>2</td>\n",
       "      <td>1</td>\n",
       "      <td>&lt;= 50</td>\n",
       "      <td>TrWP</td>\n",
       "    </tr>\n",
       "    <tr>\n",
       "      <th>448</th>\n",
       "      <td>Mr. State was @dyspneic$ speaking in short sen...</td>\n",
       "      <td>1</td>\n",
       "      <td>18</td>\n",
       "      <td>3</td>\n",
       "      <td>1</td>\n",
       "      <td>&lt;= 50</td>\n",
       "      <td>TrWP</td>\n",
       "    </tr>\n",
       "    <tr>\n",
       "      <th>493</th>\n",
       "      <td>He was begun on @Physical Therapy$ but remaine...</td>\n",
       "      <td>1</td>\n",
       "      <td>14</td>\n",
       "      <td>2</td>\n",
       "      <td>1</td>\n",
       "      <td>&lt;= 50</td>\n",
       "      <td>TrWP</td>\n",
       "    </tr>\n",
       "    <tr>\n",
       "      <th>626</th>\n",
       "      <td>Despite @Augmentin$ , @the patient &amp;apos;s del...</td>\n",
       "      <td>1</td>\n",
       "      <td>31</td>\n",
       "      <td>0</td>\n",
       "      <td>1</td>\n",
       "      <td>&lt;= 50</td>\n",
       "      <td>TrWP</td>\n",
       "    </tr>\n",
       "    <tr>\n",
       "      <th>785</th>\n",
       "      <td>Seen by PMD on 12-14 w/ symptoms of cough prod...</td>\n",
       "      <td>1</td>\n",
       "      <td>28</td>\n",
       "      <td>3</td>\n",
       "      <td>1</td>\n",
       "      <td>&lt;= 50</td>\n",
       "      <td>TrWP</td>\n",
       "    </tr>\n",
       "    <tr>\n",
       "      <th>786</th>\n",
       "      <td>Seen by PMD on 12-14 w/ symptoms of @cough$ pr...</td>\n",
       "      <td>1</td>\n",
       "      <td>28</td>\n",
       "      <td>3</td>\n",
       "      <td>1</td>\n",
       "      <td>&lt;= 50</td>\n",
       "      <td>TrWP</td>\n",
       "    </tr>\n",
       "    <tr>\n",
       "      <th>927</th>\n",
       "      <td>Cardiac catheterization demonstrates severe tr...</td>\n",
       "      <td>1</td>\n",
       "      <td>39</td>\n",
       "      <td>3</td>\n",
       "      <td>1</td>\n",
       "      <td>&lt;= 50</td>\n",
       "      <td>TrWP</td>\n",
       "    </tr>\n",
       "    <tr>\n",
       "      <th>1017</th>\n",
       "      <td>After @treatment with three cycles of fludarab...</td>\n",
       "      <td>1</td>\n",
       "      <td>21</td>\n",
       "      <td>0</td>\n",
       "      <td>1</td>\n",
       "      <td>&lt;= 50</td>\n",
       "      <td>TrWP</td>\n",
       "    </tr>\n",
       "  </tbody>\n",
       "</table>\n",
       "</div>"
      ],
      "text/plain": [
       "                                               sentence  label  sentence_len  \\\n",
       "35    He was given @D50$ , but continued to have @pr...      1            42   \n",
       "79    He has had 2 6 week courses of @antibiotics$ w...      1            17   \n",
       "319   @The ascites$ quickly accumulated after @each ...      1            12   \n",
       "448   Mr. State was @dyspneic$ speaking in short sen...      1            18   \n",
       "493   He was begun on @Physical Therapy$ but remaine...      1            14   \n",
       "626   Despite @Augmentin$ , @the patient &apos;s del...      1            31   \n",
       "785   Seen by PMD on 12-14 w/ symptoms of cough prod...      1            28   \n",
       "786   Seen by PMD on 12-14 w/ symptoms of @cough$ pr...      1            28   \n",
       "927   Cardiac catheterization demonstrates severe tr...      1            39   \n",
       "1017  After @treatment with three cycles of fludarab...      1            21   \n",
       "\n",
       "      y_pred  y_true sentence_len_bin   rel  \n",
       "35         2       1            <= 50  TrWP  \n",
       "79         3       1            <= 50  TrWP  \n",
       "319        2       1            <= 50  TrWP  \n",
       "448        3       1            <= 50  TrWP  \n",
       "493        2       1            <= 50  TrWP  \n",
       "626        0       1            <= 50  TrWP  \n",
       "785        3       1            <= 50  TrWP  \n",
       "786        3       1            <= 50  TrWP  \n",
       "927        3       1            <= 50  TrWP  \n",
       "1017       0       1            <= 50  TrWP  "
      ]
     },
     "execution_count": 35,
     "metadata": {},
     "output_type": "execute_result"
    }
   ],
   "source": [
    "problematic_datapoints_TrWP.head(10)"
   ]
  },
  {
   "cell_type": "code",
   "execution_count": 36,
   "metadata": {},
   "outputs": [
    {
     "data": {
      "text/plain": [
       "'Seen by PMD on 12-14 w/ symptoms of @cough$ productive of yellow sputum , which wife also had , prescribed @zpak$ w/o improvement .\\n'"
      ]
     },
     "execution_count": 36,
     "metadata": {},
     "output_type": "execute_result"
    }
   ],
   "source": [
    "problematic_datapoints_TrWP.iloc[7]['sentence']"
   ]
  }
 ],
 "metadata": {
  "kernelspec": {
   "display_name": "finetuneenv",
   "language": "python",
   "name": "python3"
  },
  "language_info": {
   "codemirror_mode": {
    "name": "ipython",
    "version": 3
   },
   "file_extension": ".py",
   "mimetype": "text/x-python",
   "name": "python",
   "nbconvert_exporter": "python",
   "pygments_lexer": "ipython3",
   "version": "3.7.16"
  },
  "orig_nbformat": 4
 },
 "nbformat": 4,
 "nbformat_minor": 2
}
